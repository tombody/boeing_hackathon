{
 "cells": [
  {
   "cell_type": "markdown",
   "metadata": {},
   "source": [
    "# Collision Division - Investigating the data"
   ]
  },
  {
   "cell_type": "code",
   "execution_count": 1,
   "metadata": {
    "collapsed": true
   },
   "outputs": [],
   "source": [
    "import pandas as pd\n",
    "import time\n",
    "import math as m\n",
    "import csv"
   ]
  },
  {
   "cell_type": "code",
   "execution_count": 2,
   "metadata": {
    "collapsed": false
   },
   "outputs": [],
   "source": [
    "# The first 10 lines were removed from the log file\n",
    "data = pd.read_csv(\"20181108-201421_RTH80_input.log\", header=None)"
   ]
  },
  {
   "cell_type": "code",
   "execution_count": 3,
   "metadata": {
    "collapsed": false
   },
   "outputs": [
    {
     "data": {
      "text/html": [
       "<div>\n",
       "<table border=\"1\" class=\"dataframe\">\n",
       "  <thead>\n",
       "    <tr style=\"text-align: right;\">\n",
       "      <th></th>\n",
       "      <th>0</th>\n",
       "      <th>1</th>\n",
       "      <th>2</th>\n",
       "      <th>3</th>\n",
       "      <th>4</th>\n",
       "      <th>5</th>\n",
       "      <th>6</th>\n",
       "      <th>7</th>\n",
       "      <th>8</th>\n",
       "      <th>9</th>\n",
       "      <th>10</th>\n",
       "      <th>11</th>\n",
       "      <th>12</th>\n",
       "      <th>13</th>\n",
       "      <th>14</th>\n",
       "    </tr>\n",
       "  </thead>\n",
       "  <tbody>\n",
       "    <tr>\n",
       "      <th>0</th>\n",
       "      <td>1.541708e+09</td>\n",
       "      <td>callsign --------</td>\n",
       "      <td>latitude 38.879638 longitude 282.379883</td>\n",
       "      <td>altitude 10965.180000 metres x</td>\n",
       "      <td>groundspeed 189.128838 m/s</td>\n",
       "      <td>airspeed ---- m/s</td>\n",
       "      <td>heading 218.927544</td>\n",
       "      <td>icao a6b911</td>\n",
       "      <td>airbourne</td>\n",
       "      <td>cat 0</td>\n",
       "      <td>nic 7</td>\n",
       "      <td>ADS-B</td>\n",
       "      <td>current</td>\n",
       "      <td>baro</td>\n",
       "      <td>NaN</td>\n",
       "    </tr>\n",
       "    <tr>\n",
       "      <th>1</th>\n",
       "      <td>1.541708e+09</td>\n",
       "      <td>callsign --------</td>\n",
       "      <td>latitude 38.868118 longitude 282.482260</td>\n",
       "      <td>altitude 9144.000000 metres x</td>\n",
       "      <td>groundspeed ---- m/s</td>\n",
       "      <td>airspeed ---- m/s</td>\n",
       "      <td>heading ----</td>\n",
       "      <td>icao a894f2</td>\n",
       "      <td>airbourne</td>\n",
       "      <td>cat 0</td>\n",
       "      <td>nic 8</td>\n",
       "      <td>ADS-B</td>\n",
       "      <td>current</td>\n",
       "      <td>baro</td>\n",
       "      <td>NaN</td>\n",
       "    </tr>\n",
       "    <tr>\n",
       "      <th>2</th>\n",
       "      <td>1.541708e+09</td>\n",
       "      <td>callsign --------</td>\n",
       "      <td>latitude 38.879638 longitude 282.379883</td>\n",
       "      <td>altitude 10965.180000 metres x</td>\n",
       "      <td>groundspeed 189.128838 m/s</td>\n",
       "      <td>airspeed ---- m/s</td>\n",
       "      <td>heading 218.927544</td>\n",
       "      <td>icao a6b911</td>\n",
       "      <td>airbourne</td>\n",
       "      <td>cat 0</td>\n",
       "      <td>nic 7</td>\n",
       "      <td>ADS-B</td>\n",
       "      <td>current</td>\n",
       "      <td>baro</td>\n",
       "      <td>NaN</td>\n",
       "    </tr>\n",
       "    <tr>\n",
       "      <th>3</th>\n",
       "      <td>1.541708e+09</td>\n",
       "      <td>callsign --------</td>\n",
       "      <td>latitude 38.868118 longitude 282.482260</td>\n",
       "      <td>altitude 9144.000000 metres x</td>\n",
       "      <td>groundspeed 193.256586 m/s</td>\n",
       "      <td>airspeed ---- m/s</td>\n",
       "      <td>heading 230.292070</td>\n",
       "      <td>icao a894f2</td>\n",
       "      <td>airbourne</td>\n",
       "      <td>cat 0</td>\n",
       "      <td>nic 8</td>\n",
       "      <td>ADS-B</td>\n",
       "      <td>current</td>\n",
       "      <td>baro</td>\n",
       "      <td>NaN</td>\n",
       "    </tr>\n",
       "    <tr>\n",
       "      <th>4</th>\n",
       "      <td>1.541708e+09</td>\n",
       "      <td>callsign --------</td>\n",
       "      <td>latitude 38.879638 longitude 282.379883</td>\n",
       "      <td>altitude 10965.180000 metres x</td>\n",
       "      <td>groundspeed 189.128838 m/s</td>\n",
       "      <td>airspeed ---- m/s</td>\n",
       "      <td>heading 218.927544</td>\n",
       "      <td>icao a6b911</td>\n",
       "      <td>airbourne</td>\n",
       "      <td>cat 0</td>\n",
       "      <td>nic 7</td>\n",
       "      <td>ADS-B</td>\n",
       "      <td>current</td>\n",
       "      <td>baro</td>\n",
       "      <td>NaN</td>\n",
       "    </tr>\n",
       "  </tbody>\n",
       "</table>\n",
       "</div>"
      ],
      "text/plain": [
       "             0                  1                                        2   \\\n",
       "0  1.541708e+09  callsign --------  latitude 38.879638 longitude 282.379883   \n",
       "1  1.541708e+09  callsign --------  latitude 38.868118 longitude 282.482260   \n",
       "2  1.541708e+09  callsign --------  latitude 38.879638 longitude 282.379883   \n",
       "3  1.541708e+09  callsign --------  latitude 38.868118 longitude 282.482260   \n",
       "4  1.541708e+09  callsign --------  latitude 38.879638 longitude 282.379883   \n",
       "\n",
       "                               3                           4   \\\n",
       "0  altitude 10965.180000 metres x  groundspeed 189.128838 m/s   \n",
       "1   altitude 9144.000000 metres x        groundspeed ---- m/s   \n",
       "2  altitude 10965.180000 metres x  groundspeed 189.128838 m/s   \n",
       "3   altitude 9144.000000 metres x  groundspeed 193.256586 m/s   \n",
       "4  altitude 10965.180000 metres x  groundspeed 189.128838 m/s   \n",
       "\n",
       "                  5                   6            7          8      9   \\\n",
       "0  airspeed ---- m/s  heading 218.927544  icao a6b911  airbourne  cat 0   \n",
       "1  airspeed ---- m/s        heading ----  icao a894f2  airbourne  cat 0   \n",
       "2  airspeed ---- m/s  heading 218.927544  icao a6b911  airbourne  cat 0   \n",
       "3  airspeed ---- m/s  heading 230.292070  icao a894f2  airbourne  cat 0   \n",
       "4  airspeed ---- m/s  heading 218.927544  icao a6b911  airbourne  cat 0   \n",
       "\n",
       "      10     11       12    13  14  \n",
       "0  nic 7  ADS-B  current  baro NaN  \n",
       "1  nic 8  ADS-B  current  baro NaN  \n",
       "2  nic 7  ADS-B  current  baro NaN  \n",
       "3  nic 8  ADS-B  current  baro NaN  \n",
       "4  nic 7  ADS-B  current  baro NaN  "
      ]
     },
     "execution_count": 3,
     "metadata": {},
     "output_type": "execute_result"
    }
   ],
   "source": [
    "# Previewing the data\n",
    "data.head()"
   ]
  },
  {
   "cell_type": "code",
   "execution_count": 4,
   "metadata": {
    "collapsed": false
   },
   "outputs": [
    {
     "data": {
      "text/plain": [
       "(1129928, 15)"
      ]
     },
     "execution_count": 4,
     "metadata": {},
     "output_type": "execute_result"
    }
   ],
   "source": [
    "# The number of rows and columns of the data\n",
    "data.shape"
   ]
  },
  {
   "cell_type": "code",
   "execution_count": 5,
   "metadata": {
    "collapsed": false
   },
   "outputs": [
    {
     "data": {
      "text/plain": [
       "current    982735\n",
       "stale      147193\n",
       "Name: 12, dtype: int64"
      ]
     },
     "execution_count": 5,
     "metadata": {},
     "output_type": "execute_result"
    }
   ],
   "source": [
    "# Checking the column values for the 12th column\n",
    "data[12].value_counts()"
   ]
  },
  {
   "cell_type": "code",
   "execution_count": 6,
   "metadata": {
    "collapsed": false
   },
   "outputs": [],
   "source": [
    "# Setting the column headers\n",
    "col_names = ['timestamp', 'callsign', 'lat/long', 'altitude_(m)', 'groundspeed_(m/s)',\n",
    "            'airspeed_(m/s)', 'heading', 'icao', 'status', 'cat', 'nic', \n",
    "             'transponder_type', 'current/stale', 'baro', 'unknown']\n",
    "\n",
    "data.columns = col_names"
   ]
  },
  {
   "cell_type": "code",
   "execution_count": 7,
   "metadata": {
    "collapsed": false
   },
   "outputs": [
    {
     "data": {
      "text/html": [
       "<div>\n",
       "<table border=\"1\" class=\"dataframe\">\n",
       "  <thead>\n",
       "    <tr style=\"text-align: right;\">\n",
       "      <th></th>\n",
       "      <th>timestamp</th>\n",
       "      <th>callsign</th>\n",
       "      <th>lat/long</th>\n",
       "      <th>altitude_(m)</th>\n",
       "      <th>groundspeed_(m/s)</th>\n",
       "      <th>airspeed_(m/s)</th>\n",
       "      <th>heading</th>\n",
       "      <th>icao</th>\n",
       "      <th>status</th>\n",
       "      <th>cat</th>\n",
       "      <th>nic</th>\n",
       "      <th>transponder_type</th>\n",
       "      <th>current/stale</th>\n",
       "      <th>baro</th>\n",
       "      <th>unknown</th>\n",
       "    </tr>\n",
       "  </thead>\n",
       "  <tbody>\n",
       "    <tr>\n",
       "      <th>0</th>\n",
       "      <td>1.541708e+09</td>\n",
       "      <td>callsign --------</td>\n",
       "      <td>latitude 38.879638 longitude 282.379883</td>\n",
       "      <td>altitude 10965.180000 metres x</td>\n",
       "      <td>groundspeed 189.128838 m/s</td>\n",
       "      <td>airspeed ---- m/s</td>\n",
       "      <td>heading 218.927544</td>\n",
       "      <td>icao a6b911</td>\n",
       "      <td>airbourne</td>\n",
       "      <td>cat 0</td>\n",
       "      <td>nic 7</td>\n",
       "      <td>ADS-B</td>\n",
       "      <td>current</td>\n",
       "      <td>baro</td>\n",
       "      <td>NaN</td>\n",
       "    </tr>\n",
       "  </tbody>\n",
       "</table>\n",
       "</div>"
      ],
      "text/plain": [
       "      timestamp           callsign                                 lat/long  \\\n",
       "0  1.541708e+09  callsign --------  latitude 38.879638 longitude 282.379883   \n",
       "\n",
       "                     altitude_(m)           groundspeed_(m/s)  \\\n",
       "0  altitude 10965.180000 metres x  groundspeed 189.128838 m/s   \n",
       "\n",
       "      airspeed_(m/s)             heading         icao     status    cat  \\\n",
       "0  airspeed ---- m/s  heading 218.927544  icao a6b911  airbourne  cat 0   \n",
       "\n",
       "     nic transponder_type current/stale  baro  unknown  \n",
       "0  nic 7            ADS-B       current  baro      NaN  "
      ]
     },
     "execution_count": 7,
     "metadata": {},
     "output_type": "execute_result"
    }
   ],
   "source": [
    "# Previewing the data\n",
    "data.head(1)"
   ]
  },
  {
   "cell_type": "code",
   "execution_count": 8,
   "metadata": {
    "collapsed": false
   },
   "outputs": [
    {
     "data": {
      "text/plain": [
       "Series([], Name: unknown, dtype: int64)"
      ]
     },
     "execution_count": 8,
     "metadata": {},
     "output_type": "execute_result"
    }
   ],
   "source": [
    "# Checking the values of the unknown column\n",
    "data['unknown'].value_counts()"
   ]
  },
  {
   "cell_type": "code",
   "execution_count": 9,
   "metadata": {
    "collapsed": true
   },
   "outputs": [],
   "source": [
    "# Dropping the last column (only has NaN values)\n",
    "data.drop('unknown', axis=1, inplace=True)"
   ]
  },
  {
   "cell_type": "code",
   "execution_count": 10,
   "metadata": {
    "collapsed": false
   },
   "outputs": [
    {
     "data": {
      "text/html": [
       "<div>\n",
       "<table border=\"1\" class=\"dataframe\">\n",
       "  <thead>\n",
       "    <tr style=\"text-align: right;\">\n",
       "      <th></th>\n",
       "      <th>timestamp</th>\n",
       "      <th>callsign</th>\n",
       "      <th>lat/long</th>\n",
       "      <th>altitude_(m)</th>\n",
       "      <th>groundspeed_(m/s)</th>\n",
       "      <th>airspeed_(m/s)</th>\n",
       "      <th>heading</th>\n",
       "      <th>icao</th>\n",
       "      <th>status</th>\n",
       "      <th>cat</th>\n",
       "      <th>nic</th>\n",
       "      <th>transponder_type</th>\n",
       "      <th>current/stale</th>\n",
       "      <th>baro</th>\n",
       "    </tr>\n",
       "  </thead>\n",
       "  <tbody>\n",
       "    <tr>\n",
       "      <th>0</th>\n",
       "      <td>1.541708e+09</td>\n",
       "      <td>callsign --------</td>\n",
       "      <td>latitude 38.879638 longitude 282.379883</td>\n",
       "      <td>altitude 10965.180000 metres x</td>\n",
       "      <td>groundspeed 189.128838 m/s</td>\n",
       "      <td>airspeed ---- m/s</td>\n",
       "      <td>heading 218.927544</td>\n",
       "      <td>icao a6b911</td>\n",
       "      <td>airbourne</td>\n",
       "      <td>cat 0</td>\n",
       "      <td>nic 7</td>\n",
       "      <td>ADS-B</td>\n",
       "      <td>current</td>\n",
       "      <td>baro</td>\n",
       "    </tr>\n",
       "  </tbody>\n",
       "</table>\n",
       "</div>"
      ],
      "text/plain": [
       "      timestamp           callsign                                 lat/long  \\\n",
       "0  1.541708e+09  callsign --------  latitude 38.879638 longitude 282.379883   \n",
       "\n",
       "                     altitude_(m)           groundspeed_(m/s)  \\\n",
       "0  altitude 10965.180000 metres x  groundspeed 189.128838 m/s   \n",
       "\n",
       "      airspeed_(m/s)             heading         icao     status    cat  \\\n",
       "0  airspeed ---- m/s  heading 218.927544  icao a6b911  airbourne  cat 0   \n",
       "\n",
       "     nic transponder_type current/stale  baro  \n",
       "0  nic 7            ADS-B       current  baro  "
      ]
     },
     "execution_count": 10,
     "metadata": {},
     "output_type": "execute_result"
    }
   ],
   "source": [
    "data.head(1)"
   ]
  },
  {
   "cell_type": "markdown",
   "metadata": {},
   "source": [
    "## Cleaning up the columns"
   ]
  },
  {
   "cell_type": "markdown",
   "metadata": {},
   "source": [
    "### Removing the word 'callsign' from every value"
   ]
  },
  {
   "cell_type": "code",
   "execution_count": 11,
   "metadata": {
    "collapsed": false,
    "scrolled": true
   },
   "outputs": [
    {
     "data": {
      "text/plain": [
       "callsign --------    72395\n",
       "callsign 00000000    14653\n",
       "callsign DAL1241     13031\n",
       "callsign N858CV      12909\n",
       "callsign N6712J      12509\n",
       "callsign NKS146      12494\n",
       "callsign DAL1561     12399\n",
       "callsign N500RE      12254\n",
       "callsign JBU719      11996\n",
       "callsign DAL1992     11682\n",
       "callsign VIV3945     11391\n",
       "callsign N45RR       11358\n",
       "callsign SKW3625     11323\n",
       "callsign JBU165      11289\n",
       "callsign UAL1286     11084\n",
       "callsign JBU119      11077\n",
       "callsign SWA296      10944\n",
       "callsign N544CM      10862\n",
       "callsign AAL731      10789\n",
       "callsign N591SF      10580\n",
       "callsign SWA2218     10536\n",
       "callsign DAL1544     10438\n",
       "callsign AAL2032     10431\n",
       "callsign DLH428      10368\n",
       "callsign EDV3444     10314\n",
       "callsign RPA4733     10115\n",
       "callsign N512CZ      10097\n",
       "callsign N690NG       9963\n",
       "callsign FFT1139      9685\n",
       "callsign DAL2162      9463\n",
       "                     ...  \n",
       "callsign DCM6323       783\n",
       "callsign EJA555        724\n",
       "callsign ENY3659       686\n",
       "callsign N7254P        676\n",
       "callsign N404MM        638\n",
       "callsign DAL1570       622\n",
       "callsign RPA4584       606\n",
       "callsign N377SC        581\n",
       "callsign N1465E        533\n",
       "callsign N2220N        525\n",
       "callsign FFT1148       516\n",
       "callsign CLU815        513\n",
       "callsign GJS6289       513\n",
       "callsign SKW5236       507\n",
       "callsign AAL1506       497\n",
       "callsign RPA6044       486\n",
       "callsign AAL1955       473\n",
       "callsign ENY9801       463\n",
       "callsign N62DV         433\n",
       "callsign UAL752        397\n",
       "callsign RPA4580       394\n",
       "callsign AAL401        387\n",
       "callsign JBU6          382\n",
       "callsign SWA1767       376\n",
       "callsign N109DC        343\n",
       "callsign DCM5304       281\n",
       "callsign ETD19G        276\n",
       "callsign UAL919        263\n",
       "callsign AAL645        260\n",
       "callsign LXJ583        241\n",
       "Name: callsign, dtype: int64"
      ]
     },
     "execution_count": 11,
     "metadata": {},
     "output_type": "execute_result"
    }
   ],
   "source": [
    "# Checking the callsign values\n",
    "data.callsign.value_counts()"
   ]
  },
  {
   "cell_type": "code",
   "execution_count": 12,
   "metadata": {
    "collapsed": false,
    "scrolled": true
   },
   "outputs": [],
   "source": [
    "# Removing the word 'callsign' from every row in callsign\n",
    "data['callsign'] = data['callsign'].str.split().str[1]"
   ]
  },
  {
   "cell_type": "code",
   "execution_count": 13,
   "metadata": {
    "collapsed": true
   },
   "outputs": [],
   "source": [
    "# Replacing all '--------' values with a single - to make it easier\n",
    "data['callsign'].replace('--------', '-', inplace=True)"
   ]
  },
  {
   "cell_type": "code",
   "execution_count": 14,
   "metadata": {
    "collapsed": false,
    "scrolled": true
   },
   "outputs": [
    {
     "data": {
      "text/plain": [
       "-           72395\n",
       "00000000    14653\n",
       "DAL1241     13031\n",
       "N858CV      12909\n",
       "N6712J      12509\n",
       "NKS146      12494\n",
       "DAL1561     12399\n",
       "N500RE      12254\n",
       "JBU719      11996\n",
       "DAL1992     11682\n",
       "VIV3945     11391\n",
       "N45RR       11358\n",
       "SKW3625     11323\n",
       "JBU165      11289\n",
       "UAL1286     11084\n",
       "JBU119      11077\n",
       "SWA296      10944\n",
       "N544CM      10862\n",
       "AAL731      10789\n",
       "N591SF      10580\n",
       "SWA2218     10536\n",
       "DAL1544     10438\n",
       "AAL2032     10431\n",
       "DLH428      10368\n",
       "EDV3444     10314\n",
       "RPA4733     10115\n",
       "N512CZ      10097\n",
       "N690NG       9963\n",
       "FFT1139      9685\n",
       "DAL2162      9463\n",
       "            ...  \n",
       "DCM6323       783\n",
       "EJA555        724\n",
       "ENY3659       686\n",
       "N7254P        676\n",
       "N404MM        638\n",
       "DAL1570       622\n",
       "RPA4584       606\n",
       "N377SC        581\n",
       "N1465E        533\n",
       "N2220N        525\n",
       "FFT1148       516\n",
       "CLU815        513\n",
       "GJS6289       513\n",
       "SKW5236       507\n",
       "AAL1506       497\n",
       "RPA6044       486\n",
       "AAL1955       473\n",
       "ENY9801       463\n",
       "N62DV         433\n",
       "UAL752        397\n",
       "RPA4580       394\n",
       "AAL401        387\n",
       "JBU6          382\n",
       "SWA1767       376\n",
       "N109DC        343\n",
       "DCM5304       281\n",
       "ETD19G        276\n",
       "UAL919        263\n",
       "AAL645        260\n",
       "LXJ583        241\n",
       "Name: callsign, dtype: int64"
      ]
     },
     "execution_count": 14,
     "metadata": {},
     "output_type": "execute_result"
    }
   ],
   "source": [
    "data.callsign.value_counts()"
   ]
  },
  {
   "cell_type": "code",
   "execution_count": 15,
   "metadata": {
    "collapsed": true
   },
   "outputs": [],
   "source": [
    "# Dropping the callsign\n",
    "data.drop('callsign', axis=1, inplace=True)"
   ]
  },
  {
   "cell_type": "markdown",
   "metadata": {},
   "source": [
    "## Splitting out the latitude and longitude"
   ]
  },
  {
   "cell_type": "code",
   "execution_count": 16,
   "metadata": {
    "collapsed": false
   },
   "outputs": [],
   "source": [
    "# Splitting out the latitude and longitude\n",
    "data['latitude'] = data['lat/long'].str.split().str[1]\n",
    "data['longitude'] = data['lat/long'].str.split().str[3]"
   ]
  },
  {
   "cell_type": "code",
   "execution_count": 17,
   "metadata": {
    "collapsed": true
   },
   "outputs": [],
   "source": [
    "# Dropping the lat/long column\n",
    "data.drop('lat/long', axis=1, inplace=True)"
   ]
  },
  {
   "cell_type": "markdown",
   "metadata": {},
   "source": [
    "## Altitude column"
   ]
  },
  {
   "cell_type": "code",
   "execution_count": 18,
   "metadata": {
    "collapsed": false
   },
   "outputs": [
    {
     "data": {
      "text/plain": [
       "['altitude', '9144.000000', 'metres', 'x']"
      ]
     },
     "execution_count": 18,
     "metadata": {},
     "output_type": "execute_result"
    }
   ],
   "source": [
    "# Splitting up the altitude column\n",
    "data['altitude_(m)'][1].split()"
   ]
  },
  {
   "cell_type": "code",
   "execution_count": 19,
   "metadata": {
    "collapsed": false
   },
   "outputs": [
    {
     "data": {
      "text/plain": [
       "metres    1129928\n",
       "Name: altitude_(m), dtype: int64"
      ]
     },
     "execution_count": 19,
     "metadata": {},
     "output_type": "execute_result"
    }
   ],
   "source": [
    "# Checking if all units are metres (they are)\n",
    "data['altitude_(m)'].str.split().str[2].value_counts()"
   ]
  },
  {
   "cell_type": "code",
   "execution_count": 20,
   "metadata": {
    "collapsed": false,
    "scrolled": true
   },
   "outputs": [],
   "source": [
    "# Keeping the x/+ value until I find out if it means anything\n",
    "data['altitude_units_x/+'] = data['altitude_(m)'].str.split().str[3]\n",
    "\n",
    "# Removing the word altitude from each value\n",
    "data['altitude_(m)'] = data['altitude_(m)'].str.split().str[1]"
   ]
  },
  {
   "cell_type": "code",
   "execution_count": 21,
   "metadata": {
    "collapsed": false
   },
   "outputs": [],
   "source": [
    "# Replace '-----' with '-'\n",
    "data['altitude_(m)'].replace('-----', '-', inplace=True)"
   ]
  },
  {
   "cell_type": "code",
   "execution_count": 22,
   "metadata": {
    "collapsed": false
   },
   "outputs": [
    {
     "data": {
      "text/plain": [
       "x    827342\n",
       "+    196091\n",
       "-    106495\n",
       "Name: altitude_units_x/+, dtype: int64"
      ]
     },
     "execution_count": 22,
     "metadata": {},
     "output_type": "execute_result"
    }
   ],
   "source": [
    "# Three different units (X, +, -). Need to find out what they mean.\n",
    "data['altitude_units_x/+'].value_counts()"
   ]
  },
  {
   "cell_type": "code",
   "execution_count": 23,
   "metadata": {
    "collapsed": false,
    "scrolled": true
   },
   "outputs": [],
   "source": [
    "# Dropping the altitude units\n",
    "data.drop('altitude_units_x/+', axis=1, inplace=True)"
   ]
  },
  {
   "cell_type": "markdown",
   "metadata": {},
   "source": [
    "## Groundspeed column"
   ]
  },
  {
   "cell_type": "code",
   "execution_count": 24,
   "metadata": {
    "collapsed": false
   },
   "outputs": [
    {
     "data": {
      "text/plain": [
       "['groundspeed', '----', 'm/s']"
      ]
     },
     "execution_count": 24,
     "metadata": {},
     "output_type": "execute_result"
    }
   ],
   "source": [
    "# Inspecting the first value for groundspeed\n",
    "data['groundspeed_(m/s)'][1].split()"
   ]
  },
  {
   "cell_type": "code",
   "execution_count": 25,
   "metadata": {
    "collapsed": false
   },
   "outputs": [
    {
     "data": {
      "text/plain": [
       "m/s    1129928\n",
       "Name: groundspeed_(m/s), dtype: int64"
      ]
     },
     "execution_count": 25,
     "metadata": {},
     "output_type": "execute_result"
    }
   ],
   "source": [
    "# Checking if the unit is always m/s\n",
    "data['groundspeed_(m/s)'].str.split().str[2].value_counts()"
   ]
  },
  {
   "cell_type": "code",
   "execution_count": 26,
   "metadata": {
    "collapsed": true
   },
   "outputs": [],
   "source": [
    "# Removing the word groundspeed and m/s\n",
    "data['groundspeed_(m/s)'] = data['groundspeed_(m/s)'].str.split().str[1]"
   ]
  },
  {
   "cell_type": "code",
   "execution_count": 27,
   "metadata": {
    "collapsed": true
   },
   "outputs": [],
   "source": [
    "# Replacing '----' with '-'\n",
    "data['groundspeed_(m/s)'].replace('----', '-', inplace=True)"
   ]
  },
  {
   "cell_type": "markdown",
   "metadata": {},
   "source": [
    "## Airspeed column"
   ]
  },
  {
   "cell_type": "code",
   "execution_count": 28,
   "metadata": {
    "collapsed": false
   },
   "outputs": [
    {
     "data": {
      "text/plain": [
       "['airspeed', '----', 'm/s']"
      ]
     },
     "execution_count": 28,
     "metadata": {},
     "output_type": "execute_result"
    }
   ],
   "source": [
    "# Inspecting the first value for airspeed\n",
    "data['airspeed_(m/s)'][1].split()"
   ]
  },
  {
   "cell_type": "code",
   "execution_count": 29,
   "metadata": {
    "collapsed": false
   },
   "outputs": [
    {
     "data": {
      "text/plain": [
       "airspeed ---- m/s    1129928\n",
       "Name: airspeed_(m/s), dtype: int64"
      ]
     },
     "execution_count": 29,
     "metadata": {},
     "output_type": "execute_result"
    }
   ],
   "source": [
    "# Checking the values of this column. Redundant.\n",
    "data['airspeed_(m/s)'].value_counts()"
   ]
  },
  {
   "cell_type": "code",
   "execution_count": 30,
   "metadata": {
    "collapsed": false,
    "scrolled": true
   },
   "outputs": [],
   "source": [
    "# Dropping the column from the dataframe\n",
    "data.drop('airspeed_(m/s)', axis=1, inplace=True)"
   ]
  },
  {
   "cell_type": "markdown",
   "metadata": {},
   "source": [
    "## Heading column"
   ]
  },
  {
   "cell_type": "code",
   "execution_count": 31,
   "metadata": {
    "collapsed": false
   },
   "outputs": [
    {
     "data": {
      "text/plain": [
       "['heading', '----']"
      ]
     },
     "execution_count": 31,
     "metadata": {},
     "output_type": "execute_result"
    }
   ],
   "source": [
    "# Inspecting the first value for heading\n",
    "data['heading'][1].split()"
   ]
  },
  {
   "cell_type": "code",
   "execution_count": 32,
   "metadata": {
    "collapsed": true
   },
   "outputs": [],
   "source": [
    "# Removing the word heading\n",
    "data['heading'] = data['heading'].str.split().str[1]"
   ]
  },
  {
   "cell_type": "code",
   "execution_count": 33,
   "metadata": {
    "collapsed": true
   },
   "outputs": [],
   "source": [
    "# Replacing '----' with '-'\n",
    "data['heading'].replace('----', '-', inplace=True)"
   ]
  },
  {
   "cell_type": "markdown",
   "metadata": {},
   "source": [
    "## icao column"
   ]
  },
  {
   "cell_type": "code",
   "execution_count": 34,
   "metadata": {
    "collapsed": false
   },
   "outputs": [
    {
     "data": {
      "text/plain": [
       "['icao', 'a894f2']"
      ]
     },
     "execution_count": 34,
     "metadata": {},
     "output_type": "execute_result"
    }
   ],
   "source": [
    "# Inspecting the first value for icao\n",
    "data['icao'][1].split()"
   ]
  },
  {
   "cell_type": "code",
   "execution_count": 35,
   "metadata": {
    "collapsed": true
   },
   "outputs": [],
   "source": [
    "# Removing the word icao\n",
    "data['icao'] = data['icao'].str.split().str[1]"
   ]
  },
  {
   "cell_type": "markdown",
   "metadata": {},
   "source": [
    "## cat column"
   ]
  },
  {
   "cell_type": "code",
   "execution_count": 36,
   "metadata": {
    "collapsed": false
   },
   "outputs": [
    {
     "data": {
      "text/plain": [
       "['cat', '0']"
      ]
     },
     "execution_count": 36,
     "metadata": {},
     "output_type": "execute_result"
    }
   ],
   "source": [
    "# Inspecting the first value for cat\n",
    "data['cat'][1].split()"
   ]
  },
  {
   "cell_type": "code",
   "execution_count": 37,
   "metadata": {
    "collapsed": true
   },
   "outputs": [],
   "source": [
    "# Removing the word icao\n",
    "data['cat'] = data['cat'].str.split().str[1]"
   ]
  },
  {
   "cell_type": "code",
   "execution_count": 38,
   "metadata": {
    "collapsed": false
   },
   "outputs": [
    {
     "data": {
      "text/plain": [
       "4    530840\n",
       "0    255081\n",
       "2    210955\n",
       "1     72504\n",
       "6     33885\n",
       "5     26663\n",
       "Name: cat, dtype: int64"
      ]
     },
     "execution_count": 38,
     "metadata": {},
     "output_type": "execute_result"
    }
   ],
   "source": [
    "# Checking the values of cat (not sure what cat is, but it's an int value of 0,1,2,4,5,6)\n",
    "data['cat'].value_counts()"
   ]
  },
  {
   "cell_type": "code",
   "execution_count": 39,
   "metadata": {
    "collapsed": true
   },
   "outputs": [],
   "source": [
    "# Dropping the cat column\n",
    "data.drop('cat', axis=1, inplace=True)"
   ]
  },
  {
   "cell_type": "markdown",
   "metadata": {},
   "source": [
    "## Nic column"
   ]
  },
  {
   "cell_type": "code",
   "execution_count": 40,
   "metadata": {
    "collapsed": false
   },
   "outputs": [
    {
     "data": {
      "text/plain": [
       "['nic', '8']"
      ]
     },
     "execution_count": 40,
     "metadata": {},
     "output_type": "execute_result"
    }
   ],
   "source": [
    "# Inspecting the first value for nic\n",
    "data['nic'][1].split()"
   ]
  },
  {
   "cell_type": "code",
   "execution_count": 41,
   "metadata": {
    "collapsed": true
   },
   "outputs": [],
   "source": [
    "# Removing the word icao\n",
    "data['nic'] = data['nic'].str.split().str[1]"
   ]
  },
  {
   "cell_type": "code",
   "execution_count": 42,
   "metadata": {
    "collapsed": false
   },
   "outputs": [
    {
     "data": {
      "text/plain": [
       "8     1020574\n",
       "7       47865\n",
       "9       25877\n",
       "10      23751\n",
       "11       5807\n",
       "0        4097\n",
       "12       1386\n",
       "13        252\n",
       "14        153\n",
       "15         49\n",
       "16         44\n",
       "18         38\n",
       "17         35\n",
       "Name: nic, dtype: int64"
      ]
     },
     "execution_count": 42,
     "metadata": {},
     "output_type": "execute_result"
    }
   ],
   "source": [
    "# Checking the values of cat (not sure what nic is, but it's an int value)\n",
    "data['nic'].value_counts()"
   ]
  },
  {
   "cell_type": "code",
   "execution_count": 43,
   "metadata": {
    "collapsed": false
   },
   "outputs": [],
   "source": [
    "# Dropping the nic column\n",
    "data.drop('nic', axis=1, inplace=True)"
   ]
  },
  {
   "cell_type": "markdown",
   "metadata": {},
   "source": [
    "## Checking values for other columns"
   ]
  },
  {
   "cell_type": "code",
   "execution_count": 44,
   "metadata": {
    "collapsed": false
   },
   "outputs": [
    {
     "data": {
      "text/plain": [
       "ADS-B    1129928\n",
       "Name: transponder_type, dtype: int64"
      ]
     },
     "execution_count": 44,
     "metadata": {},
     "output_type": "execute_result"
    }
   ],
   "source": [
    "# Checking the values for transponder type. All values are ADS-B\n",
    "data['transponder_type'].value_counts()"
   ]
  },
  {
   "cell_type": "code",
   "execution_count": 45,
   "metadata": {
    "collapsed": true
   },
   "outputs": [],
   "source": [
    "# Dropping the transponder type column since data is redundant\n",
    "data.drop('transponder_type', axis=1, inplace=True)"
   ]
  },
  {
   "cell_type": "code",
   "execution_count": 46,
   "metadata": {
    "collapsed": false
   },
   "outputs": [
    {
     "data": {
      "text/plain": [
       "current    982735\n",
       "stale      147193\n",
       "Name: current/stale, dtype: int64"
      ]
     },
     "execution_count": 46,
     "metadata": {},
     "output_type": "execute_result"
    }
   ],
   "source": [
    "# Checking the values for current/stale. Binary.\n",
    "data['current/stale'].value_counts()"
   ]
  },
  {
   "cell_type": "code",
   "execution_count": 47,
   "metadata": {
    "collapsed": true
   },
   "outputs": [],
   "source": [
    "# Dropping the current/stale column\n",
    "data.drop('current/stale', axis=1, inplace=True)"
   ]
  },
  {
   "cell_type": "code",
   "execution_count": 48,
   "metadata": {
    "collapsed": false
   },
   "outputs": [
    {
     "data": {
      "text/plain": [
       "baro    1126656\n",
       "geo        3272\n",
       "Name: baro, dtype: int64"
      ]
     },
     "execution_count": 48,
     "metadata": {},
     "output_type": "execute_result"
    }
   ],
   "source": [
    "# Checking the values for baro. Binary.\n",
    "data['baro'].value_counts()"
   ]
  },
  {
   "cell_type": "code",
   "execution_count": 49,
   "metadata": {
    "collapsed": true
   },
   "outputs": [],
   "source": [
    "# Dropping the baro column\n",
    "data.drop('baro', axis=1, inplace=True)"
   ]
  },
  {
   "cell_type": "markdown",
   "metadata": {},
   "source": [
    "## Filtering the dataframe"
   ]
  },
  {
   "cell_type": "code",
   "execution_count": 50,
   "metadata": {
    "collapsed": false
   },
   "outputs": [],
   "source": [
    "# Filtering where the status is airbourne\n",
    "data = data[data.status=='airbourne']"
   ]
  },
  {
   "cell_type": "code",
   "execution_count": 51,
   "metadata": {
    "collapsed": true
   },
   "outputs": [],
   "source": [
    "# Dropping the airbourne column\n",
    "data.drop('status', axis=1, inplace=True)"
   ]
  },
  {
   "cell_type": "code",
   "execution_count": 52,
   "metadata": {
    "collapsed": false
   },
   "outputs": [],
   "source": [
    "# Filtering out the values where groundspeed is untracked\n",
    "data = data[data['groundspeed_(m/s)']!='-']"
   ]
  },
  {
   "cell_type": "markdown",
   "metadata": {},
   "source": [
    "## Rearranging the columns"
   ]
  },
  {
   "cell_type": "code",
   "execution_count": 53,
   "metadata": {
    "collapsed": false
   },
   "outputs": [
    {
     "data": {
      "text/plain": [
       "Index(['timestamp', 'altitude_(m)', 'groundspeed_(m/s)', 'heading', 'icao',\n",
       "       'latitude', 'longitude'],\n",
       "      dtype='object')"
      ]
     },
     "execution_count": 53,
     "metadata": {},
     "output_type": "execute_result"
    }
   ],
   "source": [
    "data.columns"
   ]
  },
  {
   "cell_type": "code",
   "execution_count": 54,
   "metadata": {
    "collapsed": true
   },
   "outputs": [],
   "source": [
    "columns = ['timestamp', 'icao', 'latitude', 'longitude', 'altitude_(m)', 'groundspeed_(m/s)', 'heading']\n",
    "\n",
    "data = data.reindex(columns=columns)"
   ]
  },
  {
   "cell_type": "code",
   "execution_count": 55,
   "metadata": {
    "collapsed": false,
    "scrolled": false
   },
   "outputs": [
    {
     "data": {
      "text/html": [
       "<div>\n",
       "<table border=\"1\" class=\"dataframe\">\n",
       "  <thead>\n",
       "    <tr style=\"text-align: right;\">\n",
       "      <th></th>\n",
       "      <th>timestamp</th>\n",
       "      <th>icao</th>\n",
       "      <th>latitude</th>\n",
       "      <th>longitude</th>\n",
       "      <th>altitude_(m)</th>\n",
       "      <th>groundspeed_(m/s)</th>\n",
       "      <th>heading</th>\n",
       "    </tr>\n",
       "  </thead>\n",
       "  <tbody>\n",
       "    <tr>\n",
       "      <th>0</th>\n",
       "      <td>1.541708e+09</td>\n",
       "      <td>a6b911</td>\n",
       "      <td>38.879638</td>\n",
       "      <td>282.379883</td>\n",
       "      <td>10965.180000</td>\n",
       "      <td>189.128838</td>\n",
       "      <td>218.927544</td>\n",
       "    </tr>\n",
       "    <tr>\n",
       "      <th>2</th>\n",
       "      <td>1.541708e+09</td>\n",
       "      <td>a6b911</td>\n",
       "      <td>38.879638</td>\n",
       "      <td>282.379883</td>\n",
       "      <td>10965.180000</td>\n",
       "      <td>189.128838</td>\n",
       "      <td>218.927544</td>\n",
       "    </tr>\n",
       "    <tr>\n",
       "      <th>3</th>\n",
       "      <td>1.541708e+09</td>\n",
       "      <td>a894f2</td>\n",
       "      <td>38.868118</td>\n",
       "      <td>282.482260</td>\n",
       "      <td>9144.000000</td>\n",
       "      <td>193.256586</td>\n",
       "      <td>230.292070</td>\n",
       "    </tr>\n",
       "    <tr>\n",
       "      <th>4</th>\n",
       "      <td>1.541708e+09</td>\n",
       "      <td>a6b911</td>\n",
       "      <td>38.879638</td>\n",
       "      <td>282.379883</td>\n",
       "      <td>10965.180000</td>\n",
       "      <td>189.128838</td>\n",
       "      <td>218.927544</td>\n",
       "    </tr>\n",
       "    <tr>\n",
       "      <th>5</th>\n",
       "      <td>1.541708e+09</td>\n",
       "      <td>c07e46</td>\n",
       "      <td>38.711929</td>\n",
       "      <td>281.802421</td>\n",
       "      <td>11277.600000</td>\n",
       "      <td>250.767262</td>\n",
       "      <td>357.530870</td>\n",
       "    </tr>\n",
       "  </tbody>\n",
       "</table>\n",
       "</div>"
      ],
      "text/plain": [
       "      timestamp    icao   latitude   longitude  altitude_(m)  \\\n",
       "0  1.541708e+09  a6b911  38.879638  282.379883  10965.180000   \n",
       "2  1.541708e+09  a6b911  38.879638  282.379883  10965.180000   \n",
       "3  1.541708e+09  a894f2  38.868118  282.482260   9144.000000   \n",
       "4  1.541708e+09  a6b911  38.879638  282.379883  10965.180000   \n",
       "5  1.541708e+09  c07e46  38.711929  281.802421  11277.600000   \n",
       "\n",
       "  groundspeed_(m/s)     heading  \n",
       "0        189.128838  218.927544  \n",
       "2        189.128838  218.927544  \n",
       "3        193.256586  230.292070  \n",
       "4        189.128838  218.927544  \n",
       "5        250.767262  357.530870  "
      ]
     },
     "execution_count": 55,
     "metadata": {},
     "output_type": "execute_result"
    }
   ],
   "source": [
    "data.head()"
   ]
  },
  {
   "cell_type": "code",
   "execution_count": 56,
   "metadata": {
    "collapsed": false
   },
   "outputs": [],
   "source": [
    "# Converting the timestamp to integers\n",
    "# data.timestamp  = data.timestamp.astype(int)"
   ]
  },
  {
   "cell_type": "markdown",
   "metadata": {},
   "source": [
    "## Removing values where the icao value has the same lat/long"
   ]
  },
  {
   "cell_type": "code",
   "execution_count": 81,
   "metadata": {
    "collapsed": false
   },
   "outputs": [],
   "source": [
    "unique_data = data.groupby(['icao', 'latitude', 'longitude']).first().reset_index()"
   ]
  },
  {
   "cell_type": "code",
   "execution_count": 89,
   "metadata": {
    "collapsed": false
   },
   "outputs": [],
   "source": [
    "unique_data = unique_data.sort_values('timestamp').reset_index()"
   ]
  },
  {
   "cell_type": "code",
   "execution_count": 91,
   "metadata": {
    "collapsed": false
   },
   "outputs": [],
   "source": [
    "unique_data.drop('index', inplace=True, axis=1)"
   ]
  },
  {
   "cell_type": "code",
   "execution_count": 109,
   "metadata": {
    "collapsed": false
   },
   "outputs": [],
   "source": [
    "# Changing heading to a float\n",
    "unique_data.heading = unique_data.heading.astype(float)"
   ]
  },
  {
   "cell_type": "code",
   "execution_count": 93,
   "metadata": {
    "collapsed": false
   },
   "outputs": [
    {
     "data": {
      "text/plain": [
       "Index(['icao', 'latitude', 'longitude', 'timestamp', 'altitude_(m)',\n",
       "       'groundspeed_(m/s)', 'heading'],\n",
       "      dtype='object')"
      ]
     },
     "execution_count": 93,
     "metadata": {},
     "output_type": "execute_result"
    }
   ],
   "source": [
    "unique_data.columns1541708062"
   ]
  },
  {
   "cell_type": "code",
   "execution_count": 95,
   "metadata": {
    "collapsed": false
   },
   "outputs": [],
   "source": [
    "columns = ['icao', 'timestamp', 'longitude', 'latitude', 'altitude_(m)', 'heading', 'groundspeed_(m/s)']\n",
    "\n",
    "unique_data = unique_data.reindex(columns=columns)"
   ]
  },
  {
   "cell_type": "code",
   "execution_count": 96,
   "metadata": {
    "collapsed": false
   },
   "outputs": [
    {
     "data": {
      "text/html": [
       "<div>\n",
       "<table border=\"1\" class=\"dataframe\">\n",
       "  <thead>\n",
       "    <tr style=\"text-align: right;\">\n",
       "      <th></th>\n",
       "      <th>icao</th>\n",
       "      <th>timestamp</th>\n",
       "      <th>longitude</th>\n",
       "      <th>latitude</th>\n",
       "      <th>altitude_(m)</th>\n",
       "      <th>heading</th>\n",
       "      <th>groundspeed_(m/s)</th>\n",
       "    </tr>\n",
       "  </thead>\n",
       "  <tbody>\n",
       "    <tr>\n",
       "      <th>0</th>\n",
       "      <td>a6b911</td>\n",
       "      <td>1541708062</td>\n",
       "      <td>282.379883</td>\n",
       "      <td>38.879638</td>\n",
       "      <td>10965.180000</td>\n",
       "      <td>218.927544</td>\n",
       "      <td>189.128838</td>\n",
       "    </tr>\n",
       "    <tr>\n",
       "      <th>1</th>\n",
       "      <td>ac8d34</td>\n",
       "      <td>1541708062</td>\n",
       "      <td>282.577881</td>\n",
       "      <td>39.071200</td>\n",
       "      <td>9753.600000</td>\n",
       "      <td>219.008713</td>\n",
       "      <td>184.711348</td>\n",
       "    </tr>\n",
       "    <tr>\n",
       "      <th>2</th>\n",
       "      <td>c07e46</td>\n",
       "      <td>1541708062</td>\n",
       "      <td>281.802421</td>\n",
       "      <td>38.711929</td>\n",
       "      <td>11277.600000</td>\n",
       "      <td>357.530870</td>\n",
       "      <td>250.767262</td>\n",
       "    </tr>\n",
       "    <tr>\n",
       "      <th>3</th>\n",
       "      <td>a2925a</td>\n",
       "      <td>1541708062</td>\n",
       "      <td>282.504531</td>\n",
       "      <td>38.542419</td>\n",
       "      <td>6827.520000</td>\n",
       "      <td>201.072727</td>\n",
       "      <td>180.279567</td>\n",
       "    </tr>\n",
       "    <tr>\n",
       "      <th>4</th>\n",
       "      <td>ab38aa</td>\n",
       "      <td>1541708062</td>\n",
       "      <td>282.214827</td>\n",
       "      <td>38.723969</td>\n",
       "      <td>11582.400000</td>\n",
       "      <td>232.164704</td>\n",
       "      <td>195.413738</td>\n",
       "    </tr>\n",
       "    <tr>\n",
       "      <th>5</th>\n",
       "      <td>a894f2</td>\n",
       "      <td>1541708062</td>\n",
       "      <td>282.481245</td>\n",
       "      <td>38.867477</td>\n",
       "      <td>9144.000000</td>\n",
       "      <td>230.292070</td>\n",
       "      <td>193.256586</td>\n",
       "    </tr>\n",
       "    <tr>\n",
       "      <th>6</th>\n",
       "      <td>a894f2</td>\n",
       "      <td>1541708062</td>\n",
       "      <td>282.482260</td>\n",
       "      <td>38.868118</td>\n",
       "      <td>9144.000000</td>\n",
       "      <td>230.292070</td>\n",
       "      <td>193.256586</td>\n",
       "    </tr>\n",
       "    <tr>\n",
       "      <th>7</th>\n",
       "      <td>a894f2</td>\n",
       "      <td>1541708063</td>\n",
       "      <td>282.480349</td>\n",
       "      <td>38.866928</td>\n",
       "      <td>9144.000000</td>\n",
       "      <td>230.292070</td>\n",
       "      <td>193.256586</td>\n",
       "    </tr>\n",
       "    <tr>\n",
       "      <th>8</th>\n",
       "      <td>a2925a</td>\n",
       "      <td>1541708063</td>\n",
       "      <td>282.504173</td>\n",
       "      <td>38.541687</td>\n",
       "      <td>6835.140000</td>\n",
       "      <td>201.072727</td>\n",
       "      <td>180.279567</td>\n",
       "    </tr>\n",
       "    <tr>\n",
       "      <th>9</th>\n",
       "      <td>c07e46</td>\n",
       "      <td>1541708063</td>\n",
       "      <td>281.802246</td>\n",
       "      <td>38.715075</td>\n",
       "      <td>11277.600000</td>\n",
       "      <td>357.530870</td>\n",
       "      <td>250.767262</td>\n",
       "    </tr>\n",
       "    <tr>\n",
       "      <th>10</th>\n",
       "      <td>a6b911</td>\n",
       "      <td>1541708063</td>\n",
       "      <td>282.377770</td>\n",
       "      <td>38.877594</td>\n",
       "      <td>10965.180000</td>\n",
       "      <td>218.927544</td>\n",
       "      <td>189.128838</td>\n",
       "    </tr>\n",
       "    <tr>\n",
       "      <th>11</th>\n",
       "      <td>ab38aa</td>\n",
       "      <td>1541708063</td>\n",
       "      <td>282.213035</td>\n",
       "      <td>38.722916</td>\n",
       "      <td>11582.400000</td>\n",
       "      <td>232.164704</td>\n",
       "      <td>195.413738</td>\n",
       "    </tr>\n",
       "    <tr>\n",
       "      <th>12</th>\n",
       "      <td>aa7e99</td>\n",
       "      <td>1541708063</td>\n",
       "      <td>282.179240</td>\n",
       "      <td>38.884048</td>\n",
       "      <td>2788.920000</td>\n",
       "      <td>261.961767</td>\n",
       "      <td>136.121844</td>\n",
       "    </tr>\n",
       "    <tr>\n",
       "      <th>13</th>\n",
       "      <td>a894f2</td>\n",
       "      <td>1541708063</td>\n",
       "      <td>282.479614</td>\n",
       "      <td>38.866417</td>\n",
       "      <td>9144.000000</td>\n",
       "      <td>230.194429</td>\n",
       "      <td>192.861099</td>\n",
       "    </tr>\n",
       "    <tr>\n",
       "      <th>14</th>\n",
       "      <td>a84a6d</td>\n",
       "      <td>1541708063</td>\n",
       "      <td>282.157541</td>\n",
       "      <td>38.304611</td>\n",
       "      <td>10363.200000</td>\n",
       "      <td>220.119410</td>\n",
       "      <td>192.402910</td>\n",
       "    </tr>\n",
       "    <tr>\n",
       "      <th>15</th>\n",
       "      <td>ac8d34</td>\n",
       "      <td>1541708063</td>\n",
       "      <td>282.576480</td>\n",
       "      <td>39.069855</td>\n",
       "      <td>9753.600000</td>\n",
       "      <td>219.109374</td>\n",
       "      <td>184.311883</td>\n",
       "    </tr>\n",
       "    <tr>\n",
       "      <th>16</th>\n",
       "      <td>ab38aa</td>\n",
       "      <td>1541708064</td>\n",
       "      <td>282.211365</td>\n",
       "      <td>38.721872</td>\n",
       "      <td>11582.400000</td>\n",
       "      <td>232.164704</td>\n",
       "      <td>195.413738</td>\n",
       "    </tr>\n",
       "    <tr>\n",
       "      <th>17</th>\n",
       "      <td>aa7e99</td>\n",
       "      <td>1541708064</td>\n",
       "      <td>282.177246</td>\n",
       "      <td>38.883827</td>\n",
       "      <td>2804.160000</td>\n",
       "      <td>262.176289</td>\n",
       "      <td>136.050861</td>\n",
       "    </tr>\n",
       "    <tr>\n",
       "      <th>18</th>\n",
       "      <td>ac8d34</td>\n",
       "      <td>1541708064</td>\n",
       "      <td>282.575745</td>\n",
       "      <td>39.069152</td>\n",
       "      <td>9753.600000</td>\n",
       "      <td>219.109374</td>\n",
       "      <td>184.311883</td>\n",
       "    </tr>\n",
       "    <tr>\n",
       "      <th>19</th>\n",
       "      <td>ac8d34</td>\n",
       "      <td>1541708064</td>\n",
       "      <td>282.574951</td>\n",
       "      <td>39.068360</td>\n",
       "      <td>9753.600000</td>\n",
       "      <td>219.109374</td>\n",
       "      <td>184.311883</td>\n",
       "    </tr>\n",
       "    <tr>\n",
       "      <th>20</th>\n",
       "      <td>a6b911</td>\n",
       "      <td>1541708064</td>\n",
       "      <td>282.376397</td>\n",
       "      <td>38.876266</td>\n",
       "      <td>10965.180000</td>\n",
       "      <td>218.927544</td>\n",
       "      <td>189.128838</td>\n",
       "    </tr>\n",
       "    <tr>\n",
       "      <th>21</th>\n",
       "      <td>c07e46</td>\n",
       "      <td>1541708064</td>\n",
       "      <td>281.802124</td>\n",
       "      <td>38.716891</td>\n",
       "      <td>11277.600000</td>\n",
       "      <td>357.530870</td>\n",
       "      <td>250.767262</td>\n",
       "    </tr>\n",
       "    <tr>\n",
       "      <th>22</th>\n",
       "      <td>a1b48c</td>\n",
       "      <td>1541708064</td>\n",
       "      <td>282.101791</td>\n",
       "      <td>38.381561</td>\n",
       "      <td>6400.800000</td>\n",
       "      <td>225.551965</td>\n",
       "      <td>188.803915</td>\n",
       "    </tr>\n",
       "    <tr>\n",
       "      <th>23</th>\n",
       "      <td>ab38aa</td>\n",
       "      <td>1541708064</td>\n",
       "      <td>282.212097</td>\n",
       "      <td>38.722291</td>\n",
       "      <td>11582.400000</td>\n",
       "      <td>232.164704</td>\n",
       "      <td>195.413738</td>\n",
       "    </tr>\n",
       "    <tr>\n",
       "      <th>24</th>\n",
       "      <td>a2925a</td>\n",
       "      <td>1541708064</td>\n",
       "      <td>282.503038</td>\n",
       "      <td>38.539352</td>\n",
       "      <td>6842.760000</td>\n",
       "      <td>201.072727</td>\n",
       "      <td>180.279567</td>\n",
       "    </tr>\n",
       "    <tr>\n",
       "      <th>25</th>\n",
       "      <td>a32bf3</td>\n",
       "      <td>1541708064</td>\n",
       "      <td>281.515198</td>\n",
       "      <td>38.558055</td>\n",
       "      <td>5951.220000</td>\n",
       "      <td>78.537820</td>\n",
       "      <td>227.812358</td>\n",
       "    </tr>\n",
       "    <tr>\n",
       "      <th>26</th>\n",
       "      <td>a84a6d</td>\n",
       "      <td>1541708064</td>\n",
       "      <td>282.155262</td>\n",
       "      <td>38.302505</td>\n",
       "      <td>10363.200000</td>\n",
       "      <td>220.119410</td>\n",
       "      <td>192.402910</td>\n",
       "    </tr>\n",
       "    <tr>\n",
       "      <th>27</th>\n",
       "      <td>a32bf3</td>\n",
       "      <td>1541708064</td>\n",
       "      <td>281.513970</td>\n",
       "      <td>38.557846</td>\n",
       "      <td>5958.840000</td>\n",
       "      <td>78.537820</td>\n",
       "      <td>227.812358</td>\n",
       "    </tr>\n",
       "    <tr>\n",
       "      <th>28</th>\n",
       "      <td>a79e31</td>\n",
       "      <td>1541708064</td>\n",
       "      <td>282.043404</td>\n",
       "      <td>38.197321</td>\n",
       "      <td>10972.800000</td>\n",
       "      <td>220.171154</td>\n",
       "      <td>185.817020</td>\n",
       "    </tr>\n",
       "    <tr>\n",
       "      <th>29</th>\n",
       "      <td>ab349e</td>\n",
       "      <td>1541708064</td>\n",
       "      <td>282.163208</td>\n",
       "      <td>39.006865</td>\n",
       "      <td>2042.160000</td>\n",
       "      <td>124.242033</td>\n",
       "      <td>148.109976</td>\n",
       "    </tr>\n",
       "    <tr>\n",
       "      <th>...</th>\n",
       "      <td>...</td>\n",
       "      <td>...</td>\n",
       "      <td>...</td>\n",
       "      <td>...</td>\n",
       "      <td>...</td>\n",
       "      <td>...</td>\n",
       "      <td>...</td>\n",
       "    </tr>\n",
       "    <tr>\n",
       "      <th>79853</th>\n",
       "      <td>ad82e5</td>\n",
       "      <td>1541712549</td>\n",
       "      <td>282.356445</td>\n",
       "      <td>39.184788</td>\n",
       "      <td>4381.500000</td>\n",
       "      <td>334.730361</td>\n",
       "      <td>183.179790</td>\n",
       "    </tr>\n",
       "    <tr>\n",
       "      <th>79854</th>\n",
       "      <td>a16fbd</td>\n",
       "      <td>1541712549</td>\n",
       "      <td>282.135742</td>\n",
       "      <td>38.642640</td>\n",
       "      <td>3558.540000</td>\n",
       "      <td>221.126510</td>\n",
       "      <td>140.006412</td>\n",
       "    </tr>\n",
       "    <tr>\n",
       "      <th>79855</th>\n",
       "      <td>a1f116</td>\n",
       "      <td>1541712549</td>\n",
       "      <td>282.436035</td>\n",
       "      <td>39.003094</td>\n",
       "      <td>6766.560000</td>\n",
       "      <td>253.570699</td>\n",
       "      <td>167.339218</td>\n",
       "    </tr>\n",
       "    <tr>\n",
       "      <th>79856</th>\n",
       "      <td>ac7a5d</td>\n",
       "      <td>1541712550</td>\n",
       "      <td>282.424072</td>\n",
       "      <td>38.922838</td>\n",
       "      <td>12192.000000</td>\n",
       "      <td>218.832832</td>\n",
       "      <td>186.235284</td>\n",
       "    </tr>\n",
       "    <tr>\n",
       "      <th>79857</th>\n",
       "      <td>0d094d</td>\n",
       "      <td>1541712550</td>\n",
       "      <td>282.087123</td>\n",
       "      <td>38.134003</td>\n",
       "      <td>13159.740000</td>\n",
       "      <td>57.777198</td>\n",
       "      <td>273.038693</td>\n",
       "    </tr>\n",
       "    <tr>\n",
       "      <th>79858</th>\n",
       "      <td>a16fbd</td>\n",
       "      <td>1541712550</td>\n",
       "      <td>282.135176</td>\n",
       "      <td>38.642120</td>\n",
       "      <td>3558.540000</td>\n",
       "      <td>222.018539</td>\n",
       "      <td>139.875921</td>\n",
       "    </tr>\n",
       "    <tr>\n",
       "      <th>79859</th>\n",
       "      <td>ad82e5</td>\n",
       "      <td>1541712550</td>\n",
       "      <td>282.355559</td>\n",
       "      <td>39.186264</td>\n",
       "      <td>4396.740000</td>\n",
       "      <td>334.944275</td>\n",
       "      <td>183.426680</td>\n",
       "    </tr>\n",
       "    <tr>\n",
       "      <th>79860</th>\n",
       "      <td>a16e7d</td>\n",
       "      <td>1541712550</td>\n",
       "      <td>282.293403</td>\n",
       "      <td>38.236100</td>\n",
       "      <td>11887.200000</td>\n",
       "      <td>57.780995</td>\n",
       "      <td>277.891918</td>\n",
       "    </tr>\n",
       "    <tr>\n",
       "      <th>79861</th>\n",
       "      <td>0d0773</td>\n",
       "      <td>1541712550</td>\n",
       "      <td>282.881470</td>\n",
       "      <td>38.648320</td>\n",
       "      <td>10972.800000</td>\n",
       "      <td>45.503212</td>\n",
       "      <td>289.933605</td>\n",
       "    </tr>\n",
       "    <tr>\n",
       "      <th>79862</th>\n",
       "      <td>a9d44c</td>\n",
       "      <td>1541712550</td>\n",
       "      <td>281.957333</td>\n",
       "      <td>38.117065</td>\n",
       "      <td>8534.400000</td>\n",
       "      <td>219.972560</td>\n",
       "      <td>203.400820</td>\n",
       "    </tr>\n",
       "    <tr>\n",
       "      <th>79863</th>\n",
       "      <td>ab2169</td>\n",
       "      <td>1541712550</td>\n",
       "      <td>283.869990</td>\n",
       "      <td>39.933953</td>\n",
       "      <td>10942.320000</td>\n",
       "      <td>236.527952</td>\n",
       "      <td>187.484477</td>\n",
       "    </tr>\n",
       "    <tr>\n",
       "      <th>79864</th>\n",
       "      <td>a32e86</td>\n",
       "      <td>1541712550</td>\n",
       "      <td>281.894395</td>\n",
       "      <td>37.914368</td>\n",
       "      <td>10363.200000</td>\n",
       "      <td>219.479267</td>\n",
       "      <td>196.618755</td>\n",
       "    </tr>\n",
       "    <tr>\n",
       "      <th>79865</th>\n",
       "      <td>a1f116</td>\n",
       "      <td>1541712550</td>\n",
       "      <td>282.433105</td>\n",
       "      <td>39.002396</td>\n",
       "      <td>6774.180000</td>\n",
       "      <td>253.620371</td>\n",
       "      <td>167.832720</td>\n",
       "    </tr>\n",
       "    <tr>\n",
       "      <th>79866</th>\n",
       "      <td>a1f116</td>\n",
       "      <td>1541712550</td>\n",
       "      <td>282.434314</td>\n",
       "      <td>39.002701</td>\n",
       "      <td>6774.180000</td>\n",
       "      <td>253.620371</td>\n",
       "      <td>167.832720</td>\n",
       "    </tr>\n",
       "    <tr>\n",
       "      <th>79867</th>\n",
       "      <td>a3c198</td>\n",
       "      <td>1541712550</td>\n",
       "      <td>282.025452</td>\n",
       "      <td>39.571404</td>\n",
       "      <td>7818.120000</td>\n",
       "      <td>291.447736</td>\n",
       "      <td>154.761443</td>\n",
       "    </tr>\n",
       "    <tr>\n",
       "      <th>79868</th>\n",
       "      <td>c05613</td>\n",
       "      <td>1541712550</td>\n",
       "      <td>282.496643</td>\n",
       "      <td>38.630490</td>\n",
       "      <td>4861.560000</td>\n",
       "      <td>157.543061</td>\n",
       "      <td>166.997256</td>\n",
       "    </tr>\n",
       "    <tr>\n",
       "      <th>79869</th>\n",
       "      <td>a32e86</td>\n",
       "      <td>1541712551</td>\n",
       "      <td>281.893178</td>\n",
       "      <td>37.913213</td>\n",
       "      <td>10363.200000</td>\n",
       "      <td>219.479267</td>\n",
       "      <td>196.618755</td>\n",
       "    </tr>\n",
       "    <tr>\n",
       "      <th>79870</th>\n",
       "      <td>a16e7d</td>\n",
       "      <td>1541712551</td>\n",
       "      <td>282.297441</td>\n",
       "      <td>38.238098</td>\n",
       "      <td>11887.200000</td>\n",
       "      <td>57.780995</td>\n",
       "      <td>277.891918</td>\n",
       "    </tr>\n",
       "    <tr>\n",
       "      <th>79871</th>\n",
       "      <td>a9d44c</td>\n",
       "      <td>1541712551</td>\n",
       "      <td>281.955991</td>\n",
       "      <td>38.115809</td>\n",
       "      <td>8534.400000</td>\n",
       "      <td>219.972560</td>\n",
       "      <td>203.400820</td>\n",
       "    </tr>\n",
       "    <tr>\n",
       "      <th>79872</th>\n",
       "      <td>ad82e5</td>\n",
       "      <td>1541712551</td>\n",
       "      <td>282.354309</td>\n",
       "      <td>39.188372</td>\n",
       "      <td>4419.600000</td>\n",
       "      <td>335.012156</td>\n",
       "      <td>183.892842</td>\n",
       "    </tr>\n",
       "    <tr>\n",
       "      <th>79873</th>\n",
       "      <td>ad82e5</td>\n",
       "      <td>1541712551</td>\n",
       "      <td>282.354675</td>\n",
       "      <td>39.187767</td>\n",
       "      <td>4404.360000</td>\n",
       "      <td>334.944275</td>\n",
       "      <td>183.426680</td>\n",
       "    </tr>\n",
       "    <tr>\n",
       "      <th>79874</th>\n",
       "      <td>a16fbd</td>\n",
       "      <td>1541712551</td>\n",
       "      <td>282.134521</td>\n",
       "      <td>38.641616</td>\n",
       "      <td>3558.540000</td>\n",
       "      <td>222.018539</td>\n",
       "      <td>139.875921</td>\n",
       "    </tr>\n",
       "    <tr>\n",
       "      <th>79875</th>\n",
       "      <td>0d0773</td>\n",
       "      <td>1541712551</td>\n",
       "      <td>282.884155</td>\n",
       "      <td>38.650368</td>\n",
       "      <td>10957.560000</td>\n",
       "      <td>45.503212</td>\n",
       "      <td>289.933605</td>\n",
       "    </tr>\n",
       "    <tr>\n",
       "      <th>79876</th>\n",
       "      <td>a1f116</td>\n",
       "      <td>1541712551</td>\n",
       "      <td>282.431329</td>\n",
       "      <td>39.002014</td>\n",
       "      <td>6781.800000</td>\n",
       "      <td>253.620371</td>\n",
       "      <td>167.832720</td>\n",
       "    </tr>\n",
       "    <tr>\n",
       "      <th>79877</th>\n",
       "      <td>a16fbd</td>\n",
       "      <td>1541712551</td>\n",
       "      <td>282.133922</td>\n",
       "      <td>38.641113</td>\n",
       "      <td>3558.540000</td>\n",
       "      <td>222.018539</td>\n",
       "      <td>139.875921</td>\n",
       "    </tr>\n",
       "    <tr>\n",
       "      <th>79878</th>\n",
       "      <td>a9d44c</td>\n",
       "      <td>1541712551</td>\n",
       "      <td>281.956748</td>\n",
       "      <td>38.116470</td>\n",
       "      <td>8534.400000</td>\n",
       "      <td>219.972560</td>\n",
       "      <td>203.400820</td>\n",
       "    </tr>\n",
       "    <tr>\n",
       "      <th>79879</th>\n",
       "      <td>a3c198</td>\n",
       "      <td>1541712551</td>\n",
       "      <td>282.022705</td>\n",
       "      <td>39.572242</td>\n",
       "      <td>7833.360000</td>\n",
       "      <td>291.447736</td>\n",
       "      <td>154.761443</td>\n",
       "    </tr>\n",
       "    <tr>\n",
       "      <th>79880</th>\n",
       "      <td>0d094d</td>\n",
       "      <td>1541712551</td>\n",
       "      <td>282.089738</td>\n",
       "      <td>38.135314</td>\n",
       "      <td>13152.120000</td>\n",
       "      <td>57.777198</td>\n",
       "      <td>273.038693</td>\n",
       "    </tr>\n",
       "    <tr>\n",
       "      <th>79881</th>\n",
       "      <td>a16fbd</td>\n",
       "      <td>1541712552</td>\n",
       "      <td>282.133423</td>\n",
       "      <td>38.640732</td>\n",
       "      <td>3558.540000</td>\n",
       "      <td>224.255941</td>\n",
       "      <td>140.062165</td>\n",
       "    </tr>\n",
       "    <tr>\n",
       "      <th>79882</th>\n",
       "      <td>a8553c</td>\n",
       "      <td>1541862288</td>\n",
       "      <td>281.799913</td>\n",
       "      <td>38.283676</td>\n",
       "      <td>10088.880000</td>\n",
       "      <td>234.743641</td>\n",
       "      <td>182.700220</td>\n",
       "    </tr>\n",
       "  </tbody>\n",
       "</table>\n",
       "<p>79883 rows × 7 columns</p>\n",
       "</div>"
      ],
      "text/plain": [
       "         icao   timestamp   longitude   latitude  altitude_(m)     heading  \\\n",
       "0      a6b911  1541708062  282.379883  38.879638  10965.180000  218.927544   \n",
       "1      ac8d34  1541708062  282.577881  39.071200   9753.600000  219.008713   \n",
       "2      c07e46  1541708062  281.802421  38.711929  11277.600000  357.530870   \n",
       "3      a2925a  1541708062  282.504531  38.542419   6827.520000  201.072727   \n",
       "4      ab38aa  1541708062  282.214827  38.723969  11582.400000  232.164704   \n",
       "5      a894f2  1541708062  282.481245  38.867477   9144.000000  230.292070   \n",
       "6      a894f2  1541708062  282.482260  38.868118   9144.000000  230.292070   \n",
       "7      a894f2  1541708063  282.480349  38.866928   9144.000000  230.292070   \n",
       "8      a2925a  1541708063  282.504173  38.541687   6835.140000  201.072727   \n",
       "9      c07e46  1541708063  281.802246  38.715075  11277.600000  357.530870   \n",
       "10     a6b911  1541708063  282.377770  38.877594  10965.180000  218.927544   \n",
       "11     ab38aa  1541708063  282.213035  38.722916  11582.400000  232.164704   \n",
       "12     aa7e99  1541708063  282.179240  38.884048   2788.920000  261.961767   \n",
       "13     a894f2  1541708063  282.479614  38.866417   9144.000000  230.194429   \n",
       "14     a84a6d  1541708063  282.157541  38.304611  10363.200000  220.119410   \n",
       "15     ac8d34  1541708063  282.576480  39.069855   9753.600000  219.109374   \n",
       "16     ab38aa  1541708064  282.211365  38.721872  11582.400000  232.164704   \n",
       "17     aa7e99  1541708064  282.177246  38.883827   2804.160000  262.176289   \n",
       "18     ac8d34  1541708064  282.575745  39.069152   9753.600000  219.109374   \n",
       "19     ac8d34  1541708064  282.574951  39.068360   9753.600000  219.109374   \n",
       "20     a6b911  1541708064  282.376397  38.876266  10965.180000  218.927544   \n",
       "21     c07e46  1541708064  281.802124  38.716891  11277.600000  357.530870   \n",
       "22     a1b48c  1541708064  282.101791  38.381561   6400.800000  225.551965   \n",
       "23     ab38aa  1541708064  282.212097  38.722291  11582.400000  232.164704   \n",
       "24     a2925a  1541708064  282.503038  38.539352   6842.760000  201.072727   \n",
       "25     a32bf3  1541708064  281.515198  38.558055   5951.220000   78.537820   \n",
       "26     a84a6d  1541708064  282.155262  38.302505  10363.200000  220.119410   \n",
       "27     a32bf3  1541708064  281.513970  38.557846   5958.840000   78.537820   \n",
       "28     a79e31  1541708064  282.043404  38.197321  10972.800000  220.171154   \n",
       "29     ab349e  1541708064  282.163208  39.006865   2042.160000  124.242033   \n",
       "...       ...         ...         ...        ...           ...         ...   \n",
       "79853  ad82e5  1541712549  282.356445  39.184788   4381.500000  334.730361   \n",
       "79854  a16fbd  1541712549  282.135742  38.642640   3558.540000  221.126510   \n",
       "79855  a1f116  1541712549  282.436035  39.003094   6766.560000  253.570699   \n",
       "79856  ac7a5d  1541712550  282.424072  38.922838  12192.000000  218.832832   \n",
       "79857  0d094d  1541712550  282.087123  38.134003  13159.740000   57.777198   \n",
       "79858  a16fbd  1541712550  282.135176  38.642120   3558.540000  222.018539   \n",
       "79859  ad82e5  1541712550  282.355559  39.186264   4396.740000  334.944275   \n",
       "79860  a16e7d  1541712550  282.293403  38.236100  11887.200000   57.780995   \n",
       "79861  0d0773  1541712550  282.881470  38.648320  10972.800000   45.503212   \n",
       "79862  a9d44c  1541712550  281.957333  38.117065   8534.400000  219.972560   \n",
       "79863  ab2169  1541712550  283.869990  39.933953  10942.320000  236.527952   \n",
       "79864  a32e86  1541712550  281.894395  37.914368  10363.200000  219.479267   \n",
       "79865  a1f116  1541712550  282.433105  39.002396   6774.180000  253.620371   \n",
       "79866  a1f116  1541712550  282.434314  39.002701   6774.180000  253.620371   \n",
       "79867  a3c198  1541712550  282.025452  39.571404   7818.120000  291.447736   \n",
       "79868  c05613  1541712550  282.496643  38.630490   4861.560000  157.543061   \n",
       "79869  a32e86  1541712551  281.893178  37.913213  10363.200000  219.479267   \n",
       "79870  a16e7d  1541712551  282.297441  38.238098  11887.200000   57.780995   \n",
       "79871  a9d44c  1541712551  281.955991  38.115809   8534.400000  219.972560   \n",
       "79872  ad82e5  1541712551  282.354309  39.188372   4419.600000  335.012156   \n",
       "79873  ad82e5  1541712551  282.354675  39.187767   4404.360000  334.944275   \n",
       "79874  a16fbd  1541712551  282.134521  38.641616   3558.540000  222.018539   \n",
       "79875  0d0773  1541712551  282.884155  38.650368  10957.560000   45.503212   \n",
       "79876  a1f116  1541712551  282.431329  39.002014   6781.800000  253.620371   \n",
       "79877  a16fbd  1541712551  282.133922  38.641113   3558.540000  222.018539   \n",
       "79878  a9d44c  1541712551  281.956748  38.116470   8534.400000  219.972560   \n",
       "79879  a3c198  1541712551  282.022705  39.572242   7833.360000  291.447736   \n",
       "79880  0d094d  1541712551  282.089738  38.135314  13152.120000   57.777198   \n",
       "79881  a16fbd  1541712552  282.133423  38.640732   3558.540000  224.255941   \n",
       "79882  a8553c  1541862288  281.799913  38.283676  10088.880000  234.743641   \n",
       "\n",
       "      groundspeed_(m/s)  \n",
       "0            189.128838  \n",
       "1            184.711348  \n",
       "2            250.767262  \n",
       "3            180.279567  \n",
       "4            195.413738  \n",
       "5            193.256586  \n",
       "6            193.256586  \n",
       "7            193.256586  \n",
       "8            180.279567  \n",
       "9            250.767262  \n",
       "10           189.128838  \n",
       "11           195.413738  \n",
       "12           136.121844  \n",
       "13           192.861099  \n",
       "14           192.402910  \n",
       "15           184.311883  \n",
       "16           195.413738  \n",
       "17           136.050861  \n",
       "18           184.311883  \n",
       "19           184.311883  \n",
       "20           189.128838  \n",
       "21           250.767262  \n",
       "22           188.803915  \n",
       "23           195.413738  \n",
       "24           180.279567  \n",
       "25           227.812358  \n",
       "26           192.402910  \n",
       "27           227.812358  \n",
       "28           185.817020  \n",
       "29           148.109976  \n",
       "...                 ...  \n",
       "79853        183.179790  \n",
       "79854        140.006412  \n",
       "79855        167.339218  \n",
       "79856        186.235284  \n",
       "79857        273.038693  \n",
       "79858        139.875921  \n",
       "79859        183.426680  \n",
       "79860        277.891918  \n",
       "79861        289.933605  \n",
       "79862        203.400820  \n",
       "79863        187.484477  \n",
       "79864        196.618755  \n",
       "79865        167.832720  \n",
       "79866        167.832720  \n",
       "79867        154.761443  \n",
       "79868        166.997256  \n",
       "79869        196.618755  \n",
       "79870        277.891918  \n",
       "79871        203.400820  \n",
       "79872        183.892842  \n",
       "79873        183.426680  \n",
       "79874        139.875921  \n",
       "79875        289.933605  \n",
       "79876        167.832720  \n",
       "79877        139.875921  \n",
       "79878        203.400820  \n",
       "79879        154.761443  \n",
       "79880        273.038693  \n",
       "79881        140.062165  \n",
       "79882        182.700220  \n",
       "\n",
       "[79883 rows x 7 columns]"
      ]
     },
     "execution_count": 96,
     "metadata": {},
     "output_type": "execute_result"
    }
   ],
   "source": [
    "unique_data"
   ]
  },
  {
   "cell_type": "markdown",
   "metadata": {},
   "source": [
    "## Exporting the cleaned up csv file"
   ]
  },
  {
   "cell_type": "code",
   "execution_count": 98,
   "metadata": {
    "collapsed": false
   },
   "outputs": [
    {
     "data": {
      "text/html": [
       "<div>\n",
       "<table border=\"1\" class=\"dataframe\">\n",
       "  <thead>\n",
       "    <tr style=\"text-align: right;\">\n",
       "      <th></th>\n",
       "      <th>timestamp</th>\n",
       "      <th>icao</th>\n",
       "      <th>latitude</th>\n",
       "      <th>longitude</th>\n",
       "      <th>altitude_(m)</th>\n",
       "      <th>groundspeed_(m/s)</th>\n",
       "      <th>heading</th>\n",
       "    </tr>\n",
       "  </thead>\n",
       "  <tbody>\n",
       "    <tr>\n",
       "      <th>0</th>\n",
       "      <td>1541708062</td>\n",
       "      <td>a6b911</td>\n",
       "      <td>38.879638</td>\n",
       "      <td>282.379883</td>\n",
       "      <td>10965.180000</td>\n",
       "      <td>189.128838</td>\n",
       "      <td>218.927544</td>\n",
       "    </tr>\n",
       "    <tr>\n",
       "      <th>2</th>\n",
       "      <td>1541708062</td>\n",
       "      <td>a6b911</td>\n",
       "      <td>38.879638</td>\n",
       "      <td>282.379883</td>\n",
       "      <td>10965.180000</td>\n",
       "      <td>189.128838</td>\n",
       "      <td>218.927544</td>\n",
       "    </tr>\n",
       "    <tr>\n",
       "      <th>3</th>\n",
       "      <td>1541708062</td>\n",
       "      <td>a894f2</td>\n",
       "      <td>38.868118</td>\n",
       "      <td>282.482260</td>\n",
       "      <td>9144.000000</td>\n",
       "      <td>193.256586</td>\n",
       "      <td>230.292070</td>\n",
       "    </tr>\n",
       "    <tr>\n",
       "      <th>4</th>\n",
       "      <td>1541708062</td>\n",
       "      <td>a6b911</td>\n",
       "      <td>38.879638</td>\n",
       "      <td>282.379883</td>\n",
       "      <td>10965.180000</td>\n",
       "      <td>189.128838</td>\n",
       "      <td>218.927544</td>\n",
       "    </tr>\n",
       "    <tr>\n",
       "      <th>5</th>\n",
       "      <td>1541708062</td>\n",
       "      <td>c07e46</td>\n",
       "      <td>38.711929</td>\n",
       "      <td>281.802421</td>\n",
       "      <td>11277.600000</td>\n",
       "      <td>250.767262</td>\n",
       "      <td>357.530870</td>\n",
       "    </tr>\n",
       "  </tbody>\n",
       "</table>\n",
       "</div>"
      ],
      "text/plain": [
       "    timestamp    icao   latitude   longitude  altitude_(m) groundspeed_(m/s)  \\\n",
       "0  1541708062  a6b911  38.879638  282.379883  10965.180000        189.128838   \n",
       "2  1541708062  a6b911  38.879638  282.379883  10965.180000        189.128838   \n",
       "3  1541708062  a894f2  38.868118  282.482260   9144.000000        193.256586   \n",
       "4  1541708062  a6b911  38.879638  282.379883  10965.180000        189.128838   \n",
       "5  1541708062  c07e46  38.711929  281.802421  11277.600000        250.767262   \n",
       "\n",
       "      heading  \n",
       "0  218.927544  \n",
       "2  218.927544  \n",
       "3  230.292070  \n",
       "4  218.927544  \n",
       "5  357.530870  "
      ]
     },
     "execution_count": 98,
     "metadata": {},
     "output_type": "execute_result"
    }
   ],
   "source": [
    "data.head()"
   ]
  },
  {
   "cell_type": "code",
   "execution_count": 97,
   "metadata": {
    "collapsed": true
   },
   "outputs": [],
   "source": [
    "unique_data.to_csv(\"cleaned_data_collision_division.csv\")"
   ]
  },
  {
   "cell_type": "markdown",
   "metadata": {},
   "source": [
    "## Investigating the data"
   ]
  },
  {
   "cell_type": "code",
   "execution_count": 59,
   "metadata": {
    "collapsed": false
   },
   "outputs": [
    {
     "data": {
      "text/plain": [
       "42.840555555555554"
      ]
     },
     "execution_count": 59,
     "metadata": {},
     "output_type": "execute_result"
    }
   ],
   "source": [
    "timedelta = data.timestamp.max()-data.timestamp.min()\n",
    "\n",
    "# In hours\n",
    "timedelta/60/60"
   ]
  },
  {
   "cell_type": "code",
   "execution_count": 60,
   "metadata": {
    "collapsed": false
   },
   "outputs": [
    {
     "data": {
      "text/plain": [
       "(1541862288, 1541708062)"
      ]
     },
     "execution_count": 60,
     "metadata": {},
     "output_type": "execute_result"
    }
   ],
   "source": [
    "data.timestamp.max(), data.timestamp.min()"
   ]
  },
  {
   "cell_type": "code",
   "execution_count": 61,
   "metadata": {
    "collapsed": false
   },
   "outputs": [],
   "source": [
    "max_lat = data.latitude.max()\n",
    "min_lat = data.latitude.min()\n",
    "\n",
    "max_longitude = data.longitude.max()\n",
    "min_longitude = data.longitude.min()"
   ]
  },
  {
   "cell_type": "code",
   "execution_count": 62,
   "metadata": {
    "collapsed": false
   },
   "outputs": [
    {
     "data": {
      "text/plain": [
       "('37.447723', '39.968634')"
      ]
     },
     "execution_count": 62,
     "metadata": {},
     "output_type": "execute_result"
    }
   ],
   "source": [
    "min_lat, max_lat"
   ]
  },
  {
   "cell_type": "code",
   "execution_count": 63,
   "metadata": {
    "collapsed": false
   },
   "outputs": [
    {
     "data": {
      "text/plain": [
       "('279.635726', '284.066932')"
      ]
     },
     "execution_count": 63,
     "metadata": {},
     "output_type": "execute_result"
    }
   ],
   "source": [
    "min_longitude, max_longitude"
   ]
  },
  {
   "cell_type": "code",
   "execution_count": null,
   "metadata": {
    "collapsed": true
   },
   "outputs": [],
   "source": []
  }
 ],
 "metadata": {
  "kernelspec": {
   "display_name": "Python 3",
   "language": "python",
   "name": "python3"
  },
  "language_info": {
   "codemirror_mode": {
    "name": "ipython",
    "version": 3
   },
   "file_extension": ".py",
   "mimetype": "text/x-python",
   "name": "python",
   "nbconvert_exporter": "python",
   "pygments_lexer": "ipython3",
   "version": "3.6.0"
  }
 },
 "nbformat": 4,
 "nbformat_minor": 2
}
