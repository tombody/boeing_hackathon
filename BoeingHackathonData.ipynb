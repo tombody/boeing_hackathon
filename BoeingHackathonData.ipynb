{
 "cells": [
  {
   "cell_type": "markdown",
   "metadata": {},
   "source": [
    "# Collision Division - Investigating the data"
   ]
  },
  {
   "cell_type": "code",
   "execution_count": 1,
   "metadata": {
    "collapsed": true
   },
   "outputs": [],
   "source": [
    "import pandas as pd"
   ]
  },
  {
   "cell_type": "code",
   "execution_count": 2,
   "metadata": {
    "collapsed": false
   },
   "outputs": [],
   "source": [
    "# The first 10 lines were removed from the log file\n",
    "data = pd.read_csv(\"20181108-201421_RTH80_input.log\", header=None)"
   ]
  },
  {
   "cell_type": "code",
   "execution_count": 3,
   "metadata": {
    "collapsed": false
   },
   "outputs": [
    {
     "data": {
      "text/html": [
       "<div>\n",
       "<table border=\"1\" class=\"dataframe\">\n",
       "  <thead>\n",
       "    <tr style=\"text-align: right;\">\n",
       "      <th></th>\n",
       "      <th>0</th>\n",
       "      <th>1</th>\n",
       "      <th>2</th>\n",
       "      <th>3</th>\n",
       "      <th>4</th>\n",
       "      <th>5</th>\n",
       "      <th>6</th>\n",
       "      <th>7</th>\n",
       "      <th>8</th>\n",
       "      <th>9</th>\n",
       "      <th>10</th>\n",
       "      <th>11</th>\n",
       "      <th>12</th>\n",
       "      <th>13</th>\n",
       "      <th>14</th>\n",
       "    </tr>\n",
       "  </thead>\n",
       "  <tbody>\n",
       "    <tr>\n",
       "      <th>0</th>\n",
       "      <td>1.541708e+09</td>\n",
       "      <td>callsign --------</td>\n",
       "      <td>latitude 38.879638 longitude 282.379883</td>\n",
       "      <td>altitude 10965.180000 metres x</td>\n",
       "      <td>groundspeed 189.128838 m/s</td>\n",
       "      <td>airspeed ---- m/s</td>\n",
       "      <td>heading 218.927544</td>\n",
       "      <td>icao a6b911</td>\n",
       "      <td>airbourne</td>\n",
       "      <td>cat 0</td>\n",
       "      <td>nic 7</td>\n",
       "      <td>ADS-B</td>\n",
       "      <td>current</td>\n",
       "      <td>baro</td>\n",
       "      <td>NaN</td>\n",
       "    </tr>\n",
       "    <tr>\n",
       "      <th>1</th>\n",
       "      <td>1.541708e+09</td>\n",
       "      <td>callsign --------</td>\n",
       "      <td>latitude 38.868118 longitude 282.482260</td>\n",
       "      <td>altitude 9144.000000 metres x</td>\n",
       "      <td>groundspeed ---- m/s</td>\n",
       "      <td>airspeed ---- m/s</td>\n",
       "      <td>heading ----</td>\n",
       "      <td>icao a894f2</td>\n",
       "      <td>airbourne</td>\n",
       "      <td>cat 0</td>\n",
       "      <td>nic 8</td>\n",
       "      <td>ADS-B</td>\n",
       "      <td>current</td>\n",
       "      <td>baro</td>\n",
       "      <td>NaN</td>\n",
       "    </tr>\n",
       "    <tr>\n",
       "      <th>2</th>\n",
       "      <td>1.541708e+09</td>\n",
       "      <td>callsign --------</td>\n",
       "      <td>latitude 38.879638 longitude 282.379883</td>\n",
       "      <td>altitude 10965.180000 metres x</td>\n",
       "      <td>groundspeed 189.128838 m/s</td>\n",
       "      <td>airspeed ---- m/s</td>\n",
       "      <td>heading 218.927544</td>\n",
       "      <td>icao a6b911</td>\n",
       "      <td>airbourne</td>\n",
       "      <td>cat 0</td>\n",
       "      <td>nic 7</td>\n",
       "      <td>ADS-B</td>\n",
       "      <td>current</td>\n",
       "      <td>baro</td>\n",
       "      <td>NaN</td>\n",
       "    </tr>\n",
       "    <tr>\n",
       "      <th>3</th>\n",
       "      <td>1.541708e+09</td>\n",
       "      <td>callsign --------</td>\n",
       "      <td>latitude 38.868118 longitude 282.482260</td>\n",
       "      <td>altitude 9144.000000 metres x</td>\n",
       "      <td>groundspeed 193.256586 m/s</td>\n",
       "      <td>airspeed ---- m/s</td>\n",
       "      <td>heading 230.292070</td>\n",
       "      <td>icao a894f2</td>\n",
       "      <td>airbourne</td>\n",
       "      <td>cat 0</td>\n",
       "      <td>nic 8</td>\n",
       "      <td>ADS-B</td>\n",
       "      <td>current</td>\n",
       "      <td>baro</td>\n",
       "      <td>NaN</td>\n",
       "    </tr>\n",
       "    <tr>\n",
       "      <th>4</th>\n",
       "      <td>1.541708e+09</td>\n",
       "      <td>callsign --------</td>\n",
       "      <td>latitude 38.879638 longitude 282.379883</td>\n",
       "      <td>altitude 10965.180000 metres x</td>\n",
       "      <td>groundspeed 189.128838 m/s</td>\n",
       "      <td>airspeed ---- m/s</td>\n",
       "      <td>heading 218.927544</td>\n",
       "      <td>icao a6b911</td>\n",
       "      <td>airbourne</td>\n",
       "      <td>cat 0</td>\n",
       "      <td>nic 7</td>\n",
       "      <td>ADS-B</td>\n",
       "      <td>current</td>\n",
       "      <td>baro</td>\n",
       "      <td>NaN</td>\n",
       "    </tr>\n",
       "  </tbody>\n",
       "</table>\n",
       "</div>"
      ],
      "text/plain": [
       "             0                  1                                        2   \\\n",
       "0  1.541708e+09  callsign --------  latitude 38.879638 longitude 282.379883   \n",
       "1  1.541708e+09  callsign --------  latitude 38.868118 longitude 282.482260   \n",
       "2  1.541708e+09  callsign --------  latitude 38.879638 longitude 282.379883   \n",
       "3  1.541708e+09  callsign --------  latitude 38.868118 longitude 282.482260   \n",
       "4  1.541708e+09  callsign --------  latitude 38.879638 longitude 282.379883   \n",
       "\n",
       "                               3                           4   \\\n",
       "0  altitude 10965.180000 metres x  groundspeed 189.128838 m/s   \n",
       "1   altitude 9144.000000 metres x        groundspeed ---- m/s   \n",
       "2  altitude 10965.180000 metres x  groundspeed 189.128838 m/s   \n",
       "3   altitude 9144.000000 metres x  groundspeed 193.256586 m/s   \n",
       "4  altitude 10965.180000 metres x  groundspeed 189.128838 m/s   \n",
       "\n",
       "                  5                   6            7          8      9   \\\n",
       "0  airspeed ---- m/s  heading 218.927544  icao a6b911  airbourne  cat 0   \n",
       "1  airspeed ---- m/s        heading ----  icao a894f2  airbourne  cat 0   \n",
       "2  airspeed ---- m/s  heading 218.927544  icao a6b911  airbourne  cat 0   \n",
       "3  airspeed ---- m/s  heading 230.292070  icao a894f2  airbourne  cat 0   \n",
       "4  airspeed ---- m/s  heading 218.927544  icao a6b911  airbourne  cat 0   \n",
       "\n",
       "      10     11       12    13  14  \n",
       "0  nic 7  ADS-B  current  baro NaN  \n",
       "1  nic 8  ADS-B  current  baro NaN  \n",
       "2  nic 7  ADS-B  current  baro NaN  \n",
       "3  nic 8  ADS-B  current  baro NaN  \n",
       "4  nic 7  ADS-B  current  baro NaN  "
      ]
     },
     "execution_count": 3,
     "metadata": {},
     "output_type": "execute_result"
    }
   ],
   "source": [
    "# Previewing the data\n",
    "data.head()"
   ]
  },
  {
   "cell_type": "code",
   "execution_count": 4,
   "metadata": {
    "collapsed": false
   },
   "outputs": [
    {
     "data": {
      "text/plain": [
       "(1129928, 15)"
      ]
     },
     "execution_count": 4,
     "metadata": {},
     "output_type": "execute_result"
    }
   ],
   "source": [
    "# The number of rows and columns of the data\n",
    "data.shape"
   ]
  },
  {
   "cell_type": "code",
   "execution_count": 5,
   "metadata": {
    "collapsed": false
   },
   "outputs": [
    {
     "data": {
      "text/plain": [
       "current    982735\n",
       "stale      147193\n",
       "Name: 12, dtype: int64"
      ]
     },
     "execution_count": 5,
     "metadata": {},
     "output_type": "execute_result"
    }
   ],
   "source": [
    "# Checking the column values for the 12th column\n",
    "data[12].value_counts()"
   ]
  },
  {
   "cell_type": "code",
   "execution_count": 6,
   "metadata": {
    "collapsed": false
   },
   "outputs": [],
   "source": [
    "# Setting the column headers\n",
    "col_names = ['index', 'callsign', 'lat/long', 'altitude_(m)', 'groundspeed_(m/s)',\n",
    "            'airspeed_(m/s)', 'heading', 'icao', 'status', 'cat', 'nic', \n",
    "             'transponder_type', 'current/stale', 'baro', 'unknown']\n",
    "\n",
    "data.columns = col_names"
   ]
  },
  {
   "cell_type": "code",
   "execution_count": 7,
   "metadata": {
    "collapsed": false
   },
   "outputs": [
    {
     "data": {
      "text/html": [
       "<div>\n",
       "<table border=\"1\" class=\"dataframe\">\n",
       "  <thead>\n",
       "    <tr style=\"text-align: right;\">\n",
       "      <th></th>\n",
       "      <th>index</th>\n",
       "      <th>callsign</th>\n",
       "      <th>lat/long</th>\n",
       "      <th>altitude_(m)</th>\n",
       "      <th>groundspeed_(m/s)</th>\n",
       "      <th>airspeed_(m/s)</th>\n",
       "      <th>heading</th>\n",
       "      <th>icao</th>\n",
       "      <th>status</th>\n",
       "      <th>cat</th>\n",
       "      <th>nic</th>\n",
       "      <th>transponder_type</th>\n",
       "      <th>current/stale</th>\n",
       "      <th>baro</th>\n",
       "      <th>unknown</th>\n",
       "    </tr>\n",
       "  </thead>\n",
       "  <tbody>\n",
       "    <tr>\n",
       "      <th>0</th>\n",
       "      <td>1.541708e+09</td>\n",
       "      <td>callsign --------</td>\n",
       "      <td>latitude 38.879638 longitude 282.379883</td>\n",
       "      <td>altitude 10965.180000 metres x</td>\n",
       "      <td>groundspeed 189.128838 m/s</td>\n",
       "      <td>airspeed ---- m/s</td>\n",
       "      <td>heading 218.927544</td>\n",
       "      <td>icao a6b911</td>\n",
       "      <td>airbourne</td>\n",
       "      <td>cat 0</td>\n",
       "      <td>nic 7</td>\n",
       "      <td>ADS-B</td>\n",
       "      <td>current</td>\n",
       "      <td>baro</td>\n",
       "      <td>NaN</td>\n",
       "    </tr>\n",
       "  </tbody>\n",
       "</table>\n",
       "</div>"
      ],
      "text/plain": [
       "          index           callsign                                 lat/long  \\\n",
       "0  1.541708e+09  callsign --------  latitude 38.879638 longitude 282.379883   \n",
       "\n",
       "                     altitude_(m)           groundspeed_(m/s)  \\\n",
       "0  altitude 10965.180000 metres x  groundspeed 189.128838 m/s   \n",
       "\n",
       "      airspeed_(m/s)             heading         icao     status    cat  \\\n",
       "0  airspeed ---- m/s  heading 218.927544  icao a6b911  airbourne  cat 0   \n",
       "\n",
       "     nic transponder_type current/stale  baro  unknown  \n",
       "0  nic 7            ADS-B       current  baro      NaN  "
      ]
     },
     "execution_count": 7,
     "metadata": {},
     "output_type": "execute_result"
    }
   ],
   "source": [
    "# Previewing the data\n",
    "data.head(1)"
   ]
  },
  {
   "cell_type": "code",
   "execution_count": 8,
   "metadata": {
    "collapsed": false
   },
   "outputs": [
    {
     "data": {
      "text/plain": [
       "Series([], Name: unknown, dtype: int64)"
      ]
     },
     "execution_count": 8,
     "metadata": {},
     "output_type": "execute_result"
    }
   ],
   "source": [
    "# Checking the values of the unknown column\n",
    "data['unknown'].value_counts()"
   ]
  },
  {
   "cell_type": "code",
   "execution_count": 9,
   "metadata": {
    "collapsed": true
   },
   "outputs": [],
   "source": [
    "# Dropping the last column (only has NaN values)\n",
    "data.drop('unknown', axis=1, inplace=True)"
   ]
  },
  {
   "cell_type": "code",
   "execution_count": 10,
   "metadata": {
    "collapsed": false
   },
   "outputs": [
    {
     "data": {
      "text/html": [
       "<div>\n",
       "<table border=\"1\" class=\"dataframe\">\n",
       "  <thead>\n",
       "    <tr style=\"text-align: right;\">\n",
       "      <th></th>\n",
       "      <th>index</th>\n",
       "      <th>callsign</th>\n",
       "      <th>lat/long</th>\n",
       "      <th>altitude_(m)</th>\n",
       "      <th>groundspeed_(m/s)</th>\n",
       "      <th>airspeed_(m/s)</th>\n",
       "      <th>heading</th>\n",
       "      <th>icao</th>\n",
       "      <th>status</th>\n",
       "      <th>cat</th>\n",
       "      <th>nic</th>\n",
       "      <th>transponder_type</th>\n",
       "      <th>current/stale</th>\n",
       "      <th>baro</th>\n",
       "    </tr>\n",
       "  </thead>\n",
       "  <tbody>\n",
       "    <tr>\n",
       "      <th>0</th>\n",
       "      <td>1.541708e+09</td>\n",
       "      <td>callsign --------</td>\n",
       "      <td>latitude 38.879638 longitude 282.379883</td>\n",
       "      <td>altitude 10965.180000 metres x</td>\n",
       "      <td>groundspeed 189.128838 m/s</td>\n",
       "      <td>airspeed ---- m/s</td>\n",
       "      <td>heading 218.927544</td>\n",
       "      <td>icao a6b911</td>\n",
       "      <td>airbourne</td>\n",
       "      <td>cat 0</td>\n",
       "      <td>nic 7</td>\n",
       "      <td>ADS-B</td>\n",
       "      <td>current</td>\n",
       "      <td>baro</td>\n",
       "    </tr>\n",
       "  </tbody>\n",
       "</table>\n",
       "</div>"
      ],
      "text/plain": [
       "          index           callsign                                 lat/long  \\\n",
       "0  1.541708e+09  callsign --------  latitude 38.879638 longitude 282.379883   \n",
       "\n",
       "                     altitude_(m)           groundspeed_(m/s)  \\\n",
       "0  altitude 10965.180000 metres x  groundspeed 189.128838 m/s   \n",
       "\n",
       "      airspeed_(m/s)             heading         icao     status    cat  \\\n",
       "0  airspeed ---- m/s  heading 218.927544  icao a6b911  airbourne  cat 0   \n",
       "\n",
       "     nic transponder_type current/stale  baro  \n",
       "0  nic 7            ADS-B       current  baro  "
      ]
     },
     "execution_count": 10,
     "metadata": {},
     "output_type": "execute_result"
    }
   ],
   "source": [
    "data.head(1)"
   ]
  },
  {
   "cell_type": "markdown",
   "metadata": {},
   "source": [
    "## Cleaning up the columns"
   ]
  },
  {
   "cell_type": "markdown",
   "metadata": {},
   "source": [
    "### Removing the word 'callsign' from every value"
   ]
  },
  {
   "cell_type": "code",
   "execution_count": 11,
   "metadata": {
    "collapsed": false,
    "scrolled": true
   },
   "outputs": [
    {
     "data": {
      "text/plain": [
       "callsign --------    72395\n",
       "callsign 00000000    14653\n",
       "callsign DAL1241     13031\n",
       "callsign N858CV      12909\n",
       "callsign N6712J      12509\n",
       "callsign NKS146      12494\n",
       "callsign DAL1561     12399\n",
       "callsign N500RE      12254\n",
       "callsign JBU719      11996\n",
       "callsign DAL1992     11682\n",
       "callsign VIV3945     11391\n",
       "callsign N45RR       11358\n",
       "callsign SKW3625     11323\n",
       "callsign JBU165      11289\n",
       "callsign UAL1286     11084\n",
       "callsign JBU119      11077\n",
       "callsign SWA296      10944\n",
       "callsign N544CM      10862\n",
       "callsign AAL731      10789\n",
       "callsign N591SF      10580\n",
       "callsign SWA2218     10536\n",
       "callsign DAL1544     10438\n",
       "callsign AAL2032     10431\n",
       "callsign DLH428      10368\n",
       "callsign EDV3444     10314\n",
       "callsign RPA4733     10115\n",
       "callsign N512CZ      10097\n",
       "callsign N690NG       9963\n",
       "callsign FFT1139      9685\n",
       "callsign DAL2162      9463\n",
       "                     ...  \n",
       "callsign DCM6323       783\n",
       "callsign EJA555        724\n",
       "callsign ENY3659       686\n",
       "callsign N7254P        676\n",
       "callsign N404MM        638\n",
       "callsign DAL1570       622\n",
       "callsign RPA4584       606\n",
       "callsign N377SC        581\n",
       "callsign N1465E        533\n",
       "callsign N2220N        525\n",
       "callsign FFT1148       516\n",
       "callsign CLU815        513\n",
       "callsign GJS6289       513\n",
       "callsign SKW5236       507\n",
       "callsign AAL1506       497\n",
       "callsign RPA6044       486\n",
       "callsign AAL1955       473\n",
       "callsign ENY9801       463\n",
       "callsign N62DV         433\n",
       "callsign UAL752        397\n",
       "callsign RPA4580       394\n",
       "callsign AAL401        387\n",
       "callsign JBU6          382\n",
       "callsign SWA1767       376\n",
       "callsign N109DC        343\n",
       "callsign DCM5304       281\n",
       "callsign ETD19G        276\n",
       "callsign UAL919        263\n",
       "callsign AAL645        260\n",
       "callsign LXJ583        241\n",
       "Name: callsign, dtype: int64"
      ]
     },
     "execution_count": 11,
     "metadata": {},
     "output_type": "execute_result"
    }
   ],
   "source": [
    "# Checking the callsign values\n",
    "data.callsign.value_counts()"
   ]
  },
  {
   "cell_type": "code",
   "execution_count": 12,
   "metadata": {
    "collapsed": false,
    "scrolled": true
   },
   "outputs": [],
   "source": [
    "# Removing the word 'callsign' from every row in callsign\n",
    "data['callsign'] = data['callsign'].str.split().str[1]"
   ]
  },
  {
   "cell_type": "code",
   "execution_count": 13,
   "metadata": {
    "collapsed": true
   },
   "outputs": [],
   "source": [
    "# Replacing all '--------' values with a single - to make it easier\n",
    "data['callsign'].replace('--------', '-', inplace=True)"
   ]
  },
  {
   "cell_type": "code",
   "execution_count": 14,
   "metadata": {
    "collapsed": false,
    "scrolled": true
   },
   "outputs": [
    {
     "data": {
      "text/plain": [
       "-           72395\n",
       "00000000    14653\n",
       "DAL1241     13031\n",
       "N858CV      12909\n",
       "N6712J      12509\n",
       "NKS146      12494\n",
       "DAL1561     12399\n",
       "N500RE      12254\n",
       "JBU719      11996\n",
       "DAL1992     11682\n",
       "VIV3945     11391\n",
       "N45RR       11358\n",
       "SKW3625     11323\n",
       "JBU165      11289\n",
       "UAL1286     11084\n",
       "JBU119      11077\n",
       "SWA296      10944\n",
       "N544CM      10862\n",
       "AAL731      10789\n",
       "N591SF      10580\n",
       "SWA2218     10536\n",
       "DAL1544     10438\n",
       "AAL2032     10431\n",
       "DLH428      10368\n",
       "EDV3444     10314\n",
       "RPA4733     10115\n",
       "N512CZ      10097\n",
       "N690NG       9963\n",
       "FFT1139      9685\n",
       "DAL2162      9463\n",
       "            ...  \n",
       "DCM6323       783\n",
       "EJA555        724\n",
       "ENY3659       686\n",
       "N7254P        676\n",
       "N404MM        638\n",
       "DAL1570       622\n",
       "RPA4584       606\n",
       "N377SC        581\n",
       "N1465E        533\n",
       "N2220N        525\n",
       "FFT1148       516\n",
       "GJS6289       513\n",
       "CLU815        513\n",
       "SKW5236       507\n",
       "AAL1506       497\n",
       "RPA6044       486\n",
       "AAL1955       473\n",
       "ENY9801       463\n",
       "N62DV         433\n",
       "UAL752        397\n",
       "RPA4580       394\n",
       "AAL401        387\n",
       "JBU6          382\n",
       "SWA1767       376\n",
       "N109DC        343\n",
       "DCM5304       281\n",
       "ETD19G        276\n",
       "UAL919        263\n",
       "AAL645        260\n",
       "LXJ583        241\n",
       "Name: callsign, dtype: int64"
      ]
     },
     "execution_count": 14,
     "metadata": {},
     "output_type": "execute_result"
    }
   ],
   "source": [
    "data.callsign.value_counts()"
   ]
  },
  {
   "cell_type": "markdown",
   "metadata": {},
   "source": [
    "## Splitting out the latitude and longitude"
   ]
  },
  {
   "cell_type": "code",
   "execution_count": 15,
   "metadata": {
    "collapsed": false
   },
   "outputs": [],
   "source": [
    "# Splitting out the latitude and longitude\n",
    "data['latitude'] = data['lat/long'].str.split().str[1]\n",
    "data['longitude'] = data['lat/long'].str.split().str[3]"
   ]
  },
  {
   "cell_type": "code",
   "execution_count": 16,
   "metadata": {
    "collapsed": true
   },
   "outputs": [],
   "source": [
    "# Dropping the lat/long column\n",
    "data.drop('lat/long', axis=1, inplace=True)"
   ]
  },
  {
   "cell_type": "markdown",
   "metadata": {},
   "source": [
    "## Altitude column"
   ]
  },
  {
   "cell_type": "code",
   "execution_count": 17,
   "metadata": {
    "collapsed": false
   },
   "outputs": [
    {
     "data": {
      "text/plain": [
       "['altitude', '9144.000000', 'metres', 'x']"
      ]
     },
     "execution_count": 17,
     "metadata": {},
     "output_type": "execute_result"
    }
   ],
   "source": [
    "# Splitting up the altitude column\n",
    "data['altitude_(m)'][1].split()"
   ]
  },
  {
   "cell_type": "code",
   "execution_count": 18,
   "metadata": {
    "collapsed": false
   },
   "outputs": [
    {
     "data": {
      "text/plain": [
       "metres    1129928\n",
       "Name: altitude_(m), dtype: int64"
      ]
     },
     "execution_count": 18,
     "metadata": {},
     "output_type": "execute_result"
    }
   ],
   "source": [
    "# Checking if all units are metres (they are)\n",
    "data['altitude_(m)'].str.split().str[2].value_counts()"
   ]
  },
  {
   "cell_type": "code",
   "execution_count": 19,
   "metadata": {
    "collapsed": false,
    "scrolled": true
   },
   "outputs": [],
   "source": [
    "# Keeping the x/+ value until I find out if it means anything\n",
    "data['altitude_units_x/+'] = data['altitude_(m)'].str.split().str[3]\n",
    "\n",
    "# Removing the word altitude from each value\n",
    "data['altitude_(m)'] = data['altitude_(m)'].str.split().str[1]"
   ]
  },
  {
   "cell_type": "code",
   "execution_count": 20,
   "metadata": {
    "collapsed": false
   },
   "outputs": [],
   "source": [
    "# Replace '-----' with '-'\n",
    "data['altitude_(m)'].replace('-----', '-', inplace=True)"
   ]
  },
  {
   "cell_type": "code",
   "execution_count": 21,
   "metadata": {
    "collapsed": false
   },
   "outputs": [
    {
     "data": {
      "text/plain": [
       "x    827342\n",
       "+    196091\n",
       "-    106495\n",
       "Name: altitude_units_x/+, dtype: int64"
      ]
     },
     "execution_count": 21,
     "metadata": {},
     "output_type": "execute_result"
    }
   ],
   "source": [
    "# Three different units (X, +, -). Need to find out what they mean.\n",
    "data['altitude_units_x/+'].value_counts()"
   ]
  },
  {
   "cell_type": "code",
   "execution_count": 22,
   "metadata": {
    "collapsed": false
   },
   "outputs": [
    {
     "data": {
      "text/html": [
       "<div>\n",
       "<table border=\"1\" class=\"dataframe\">\n",
       "  <thead>\n",
       "    <tr style=\"text-align: right;\">\n",
       "      <th></th>\n",
       "      <th>index</th>\n",
       "      <th>callsign</th>\n",
       "      <th>altitude_(m)</th>\n",
       "      <th>groundspeed_(m/s)</th>\n",
       "      <th>airspeed_(m/s)</th>\n",
       "      <th>heading</th>\n",
       "      <th>icao</th>\n",
       "      <th>status</th>\n",
       "      <th>cat</th>\n",
       "      <th>nic</th>\n",
       "      <th>transponder_type</th>\n",
       "      <th>current/stale</th>\n",
       "      <th>baro</th>\n",
       "      <th>latitude</th>\n",
       "      <th>longitude</th>\n",
       "      <th>altitude_units_x/+</th>\n",
       "    </tr>\n",
       "  </thead>\n",
       "  <tbody>\n",
       "    <tr>\n",
       "      <th>0</th>\n",
       "      <td>1.541708e+09</td>\n",
       "      <td>-</td>\n",
       "      <td>10965.180000</td>\n",
       "      <td>groundspeed 189.128838 m/s</td>\n",
       "      <td>airspeed ---- m/s</td>\n",
       "      <td>heading 218.927544</td>\n",
       "      <td>icao a6b911</td>\n",
       "      <td>airbourne</td>\n",
       "      <td>cat 0</td>\n",
       "      <td>nic 7</td>\n",
       "      <td>ADS-B</td>\n",
       "      <td>current</td>\n",
       "      <td>baro</td>\n",
       "      <td>38.879638</td>\n",
       "      <td>282.379883</td>\n",
       "      <td>x</td>\n",
       "    </tr>\n",
       "  </tbody>\n",
       "</table>\n",
       "</div>"
      ],
      "text/plain": [
       "          index callsign  altitude_(m)           groundspeed_(m/s)  \\\n",
       "0  1.541708e+09        -  10965.180000  groundspeed 189.128838 m/s   \n",
       "\n",
       "      airspeed_(m/s)             heading         icao     status    cat  \\\n",
       "0  airspeed ---- m/s  heading 218.927544  icao a6b911  airbourne  cat 0   \n",
       "\n",
       "     nic transponder_type current/stale  baro   latitude   longitude  \\\n",
       "0  nic 7            ADS-B       current  baro  38.879638  282.379883   \n",
       "\n",
       "  altitude_units_x/+  \n",
       "0                  x  "
      ]
     },
     "execution_count": 22,
     "metadata": {},
     "output_type": "execute_result"
    }
   ],
   "source": [
    "data.head(1)"
   ]
  },
  {
   "cell_type": "markdown",
   "metadata": {},
   "source": [
    "## Groundspeed column"
   ]
  },
  {
   "cell_type": "code",
   "execution_count": 23,
   "metadata": {
    "collapsed": false
   },
   "outputs": [
    {
     "data": {
      "text/plain": [
       "['groundspeed', '----', 'm/s']"
      ]
     },
     "execution_count": 23,
     "metadata": {},
     "output_type": "execute_result"
    }
   ],
   "source": [
    "# Inspecting the first value for groundspeed\n",
    "data['groundspeed_(m/s)'][1].split()"
   ]
  },
  {
   "cell_type": "code",
   "execution_count": 24,
   "metadata": {
    "collapsed": false
   },
   "outputs": [
    {
     "data": {
      "text/plain": [
       "m/s    1129928\n",
       "Name: groundspeed_(m/s), dtype: int64"
      ]
     },
     "execution_count": 24,
     "metadata": {},
     "output_type": "execute_result"
    }
   ],
   "source": [
    "# Checking if the unit is always m/s\n",
    "data['groundspeed_(m/s)'].str.split().str[2].value_counts()"
   ]
  },
  {
   "cell_type": "code",
   "execution_count": 25,
   "metadata": {
    "collapsed": true
   },
   "outputs": [],
   "source": [
    "# Removing the word groundspeed and m/s\n",
    "data['groundspeed_(m/s)'] = data['groundspeed_(m/s)'].str.split().str[1]"
   ]
  },
  {
   "cell_type": "code",
   "execution_count": 26,
   "metadata": {
    "collapsed": true
   },
   "outputs": [],
   "source": [
    "# Replacing '----' with '-'\n",
    "data['groundspeed_(m/s)'].replace('----', '-', inplace=True)"
   ]
  },
  {
   "cell_type": "markdown",
   "metadata": {},
   "source": [
    "## Airspeed column"
   ]
  },
  {
   "cell_type": "code",
   "execution_count": 27,
   "metadata": {
    "collapsed": false
   },
   "outputs": [
    {
     "data": {
      "text/plain": [
       "['airspeed', '----', 'm/s']"
      ]
     },
     "execution_count": 27,
     "metadata": {},
     "output_type": "execute_result"
    }
   ],
   "source": [
    "# Inspecting the first value for airspeed\n",
    "data['airspeed_(m/s)'][1].split()"
   ]
  },
  {
   "cell_type": "code",
   "execution_count": 28,
   "metadata": {
    "collapsed": false
   },
   "outputs": [
    {
     "data": {
      "text/plain": [
       "airspeed ---- m/s    1129928\n",
       "Name: airspeed_(m/s), dtype: int64"
      ]
     },
     "execution_count": 28,
     "metadata": {},
     "output_type": "execute_result"
    }
   ],
   "source": [
    "# Checking the values of this column. Redundant.\n",
    "data['airspeed_(m/s)'].value_counts()"
   ]
  },
  {
   "cell_type": "code",
   "execution_count": 29,
   "metadata": {
    "collapsed": false,
    "scrolled": true
   },
   "outputs": [],
   "source": [
    "# Dropping the column from the dataframe\n",
    "data.drop('airspeed_(m/s)', axis=1, inplace=True)"
   ]
  },
  {
   "cell_type": "markdown",
   "metadata": {},
   "source": [
    "## Heading column"
   ]
  },
  {
   "cell_type": "code",
   "execution_count": 30,
   "metadata": {
    "collapsed": false
   },
   "outputs": [
    {
     "data": {
      "text/plain": [
       "['heading', '----']"
      ]
     },
     "execution_count": 30,
     "metadata": {},
     "output_type": "execute_result"
    }
   ],
   "source": [
    "# Inspecting the first value for heading\n",
    "data['heading'][1].split()"
   ]
  },
  {
   "cell_type": "code",
   "execution_count": 31,
   "metadata": {
    "collapsed": true
   },
   "outputs": [],
   "source": [
    "# Removing the word heading\n",
    "data['heading'] = data['heading'].str.split().str[1]"
   ]
  },
  {
   "cell_type": "code",
   "execution_count": 32,
   "metadata": {
    "collapsed": true
   },
   "outputs": [],
   "source": [
    "# Replacing '----' with '-'\n",
    "data['heading'].replace('----', '-', inplace=True)"
   ]
  },
  {
   "cell_type": "markdown",
   "metadata": {},
   "source": [
    "## icao column"
   ]
  },
  {
   "cell_type": "code",
   "execution_count": 33,
   "metadata": {
    "collapsed": false
   },
   "outputs": [
    {
     "data": {
      "text/plain": [
       "['icao', 'a894f2']"
      ]
     },
     "execution_count": 33,
     "metadata": {},
     "output_type": "execute_result"
    }
   ],
   "source": [
    "# Inspecting the first value for icao\n",
    "data['icao'][1].split()"
   ]
  },
  {
   "cell_type": "code",
   "execution_count": 34,
   "metadata": {
    "collapsed": true
   },
   "outputs": [],
   "source": [
    "# Removing the word icao\n",
    "data['icao'] = data['icao'].str.split().str[1]"
   ]
  },
  {
   "cell_type": "markdown",
   "metadata": {},
   "source": [
    "## cat column"
   ]
  },
  {
   "cell_type": "code",
   "execution_count": 35,
   "metadata": {
    "collapsed": false
   },
   "outputs": [
    {
     "data": {
      "text/plain": [
       "['cat', '0']"
      ]
     },
     "execution_count": 35,
     "metadata": {},
     "output_type": "execute_result"
    }
   ],
   "source": [
    "# Inspecting the first value for cat\n",
    "data['cat'][1].split()"
   ]
  },
  {
   "cell_type": "code",
   "execution_count": 36,
   "metadata": {
    "collapsed": true
   },
   "outputs": [],
   "source": [
    "# Removing the word icao\n",
    "data['cat'] = data['cat'].str.split().str[1]"
   ]
  },
  {
   "cell_type": "code",
   "execution_count": 37,
   "metadata": {
    "collapsed": false
   },
   "outputs": [
    {
     "data": {
      "text/plain": [
       "4    530840\n",
       "0    255081\n",
       "2    210955\n",
       "1     72504\n",
       "6     33885\n",
       "5     26663\n",
       "Name: cat, dtype: int64"
      ]
     },
     "execution_count": 37,
     "metadata": {},
     "output_type": "execute_result"
    }
   ],
   "source": [
    "# Checking the values of cat (not sure what cat is, but it's an int value of 0,1,2,4,5,6)\n",
    "data['cat'].value_counts()"
   ]
  },
  {
   "cell_type": "markdown",
   "metadata": {},
   "source": [
    "## Nic column"
   ]
  },
  {
   "cell_type": "code",
   "execution_count": 38,
   "metadata": {
    "collapsed": false
   },
   "outputs": [
    {
     "data": {
      "text/plain": [
       "['nic', '8']"
      ]
     },
     "execution_count": 38,
     "metadata": {},
     "output_type": "execute_result"
    }
   ],
   "source": [
    "# Inspecting the first value for nic\n",
    "data['nic'][1].split()"
   ]
  },
  {
   "cell_type": "code",
   "execution_count": 39,
   "metadata": {
    "collapsed": true
   },
   "outputs": [],
   "source": [
    "# Removing the word icao\n",
    "data['nic'] = data['nic'].str.split().str[1]"
   ]
  },
  {
   "cell_type": "code",
   "execution_count": 40,
   "metadata": {
    "collapsed": false
   },
   "outputs": [
    {
     "data": {
      "text/plain": [
       "8     1020574\n",
       "7       47865\n",
       "9       25877\n",
       "10      23751\n",
       "11       5807\n",
       "0        4097\n",
       "12       1386\n",
       "13        252\n",
       "14        153\n",
       "15         49\n",
       "16         44\n",
       "18         38\n",
       "17         35\n",
       "Name: nic, dtype: int64"
      ]
     },
     "execution_count": 40,
     "metadata": {},
     "output_type": "execute_result"
    }
   ],
   "source": [
    "# Checking the values of cat (not sure what nic is, but it's an int value)\n",
    "data['nic'].value_counts()"
   ]
  },
  {
   "cell_type": "code",
   "execution_count": 41,
   "metadata": {
    "collapsed": false
   },
   "outputs": [
    {
     "data": {
      "text/html": [
       "<div>\n",
       "<table border=\"1\" class=\"dataframe\">\n",
       "  <thead>\n",
       "    <tr style=\"text-align: right;\">\n",
       "      <th></th>\n",
       "      <th>index</th>\n",
       "      <th>callsign</th>\n",
       "      <th>altitude_(m)</th>\n",
       "      <th>groundspeed_(m/s)</th>\n",
       "      <th>heading</th>\n",
       "      <th>icao</th>\n",
       "      <th>status</th>\n",
       "      <th>cat</th>\n",
       "      <th>nic</th>\n",
       "      <th>transponder_type</th>\n",
       "      <th>current/stale</th>\n",
       "      <th>baro</th>\n",
       "      <th>latitude</th>\n",
       "      <th>longitude</th>\n",
       "      <th>altitude_units_x/+</th>\n",
       "    </tr>\n",
       "  </thead>\n",
       "  <tbody>\n",
       "    <tr>\n",
       "      <th>0</th>\n",
       "      <td>1.541708e+09</td>\n",
       "      <td>-</td>\n",
       "      <td>10965.180000</td>\n",
       "      <td>189.128838</td>\n",
       "      <td>218.927544</td>\n",
       "      <td>a6b911</td>\n",
       "      <td>airbourne</td>\n",
       "      <td>0</td>\n",
       "      <td>7</td>\n",
       "      <td>ADS-B</td>\n",
       "      <td>current</td>\n",
       "      <td>baro</td>\n",
       "      <td>38.879638</td>\n",
       "      <td>282.379883</td>\n",
       "      <td>x</td>\n",
       "    </tr>\n",
       "  </tbody>\n",
       "</table>\n",
       "</div>"
      ],
      "text/plain": [
       "          index callsign  altitude_(m) groundspeed_(m/s)     heading    icao  \\\n",
       "0  1.541708e+09        -  10965.180000        189.128838  218.927544  a6b911   \n",
       "\n",
       "      status cat nic transponder_type current/stale  baro   latitude  \\\n",
       "0  airbourne   0   7            ADS-B       current  baro  38.879638   \n",
       "\n",
       "    longitude altitude_units_x/+  \n",
       "0  282.379883                  x  "
      ]
     },
     "execution_count": 41,
     "metadata": {},
     "output_type": "execute_result"
    }
   ],
   "source": [
    "data.head(1)"
   ]
  },
  {
   "cell_type": "markdown",
   "metadata": {},
   "source": [
    "## Checking values for other columns"
   ]
  },
  {
   "cell_type": "code",
   "execution_count": 42,
   "metadata": {
    "collapsed": false
   },
   "outputs": [
    {
     "data": {
      "text/plain": [
       "ADS-B    1129928\n",
       "Name: transponder_type, dtype: int64"
      ]
     },
     "execution_count": 42,
     "metadata": {},
     "output_type": "execute_result"
    }
   ],
   "source": [
    "# Checking the values for transponder type. All values are ADS-B\n",
    "data['transponder_type'].value_counts()"
   ]
  },
  {
   "cell_type": "code",
   "execution_count": 43,
   "metadata": {
    "collapsed": true
   },
   "outputs": [],
   "source": [
    "# Dropping the transponder type column since data is redundant\n",
    "data.drop('transponder_type', axis=1, inplace=True)"
   ]
  },
  {
   "cell_type": "code",
   "execution_count": 44,
   "metadata": {
    "collapsed": false
   },
   "outputs": [
    {
     "data": {
      "text/plain": [
       "current    982735\n",
       "stale      147193\n",
       "Name: current/stale, dtype: int64"
      ]
     },
     "execution_count": 44,
     "metadata": {},
     "output_type": "execute_result"
    }
   ],
   "source": [
    "# Checking the values for current/stale. Binary.\n",
    "data['current/stale'].value_counts()"
   ]
  },
  {
   "cell_type": "code",
   "execution_count": 45,
   "metadata": {
    "collapsed": false
   },
   "outputs": [
    {
     "data": {
      "text/plain": [
       "baro    1126656\n",
       "geo        3272\n",
       "Name: baro, dtype: int64"
      ]
     },
     "execution_count": 45,
     "metadata": {},
     "output_type": "execute_result"
    }
   ],
   "source": [
    "# Checking the values for baro. Binary.\n",
    "data['baro'].value_counts()"
   ]
  },
  {
   "cell_type": "markdown",
   "metadata": {},
   "source": [
    "## Rearranging the columns"
   ]
  },
  {
   "cell_type": "code",
   "execution_count": 46,
   "metadata": {
    "collapsed": false
   },
   "outputs": [
    {
     "data": {
      "text/plain": [
       "Index(['index', 'callsign', 'altitude_(m)', 'groundspeed_(m/s)', 'heading',\n",
       "       'icao', 'status', 'cat', 'nic', 'current/stale', 'baro', 'latitude',\n",
       "       'longitude', 'altitude_units_x/+'],\n",
       "      dtype='object')"
      ]
     },
     "execution_count": 46,
     "metadata": {},
     "output_type": "execute_result"
    }
   ],
   "source": [
    "data.columns"
   ]
  },
  {
   "cell_type": "code",
   "execution_count": 47,
   "metadata": {
    "collapsed": true
   },
   "outputs": [],
   "source": [
    "columns = ['index', 'icao', 'callsign', 'latitude', 'longitude', 'altitude_(m)', \n",
    "           'altitude_units_x/+', 'groundspeed_(m/s)', 'heading', \n",
    "           'status', 'cat', 'nic', 'current/stale', 'baro']\n",
    "\n",
    "data = data.reindex(columns=columns)"
   ]
  },
  {
   "cell_type": "code",
   "execution_count": 48,
   "metadata": {
    "collapsed": false,
    "scrolled": false
   },
   "outputs": [
    {
     "data": {
      "text/html": [
       "<div>\n",
       "<table border=\"1\" class=\"dataframe\">\n",
       "  <thead>\n",
       "    <tr style=\"text-align: right;\">\n",
       "      <th></th>\n",
       "      <th>index</th>\n",
       "      <th>icao</th>\n",
       "      <th>callsign</th>\n",
       "      <th>latitude</th>\n",
       "      <th>longitude</th>\n",
       "      <th>altitude_(m)</th>\n",
       "      <th>altitude_units_x/+</th>\n",
       "      <th>groundspeed_(m/s)</th>\n",
       "      <th>heading</th>\n",
       "      <th>status</th>\n",
       "      <th>cat</th>\n",
       "      <th>nic</th>\n",
       "      <th>current/stale</th>\n",
       "      <th>baro</th>\n",
       "    </tr>\n",
       "  </thead>\n",
       "  <tbody>\n",
       "    <tr>\n",
       "      <th>0</th>\n",
       "      <td>1.541708e+09</td>\n",
       "      <td>a6b911</td>\n",
       "      <td>-</td>\n",
       "      <td>38.879638</td>\n",
       "      <td>282.379883</td>\n",
       "      <td>10965.180000</td>\n",
       "      <td>x</td>\n",
       "      <td>189.128838</td>\n",
       "      <td>218.927544</td>\n",
       "      <td>airbourne</td>\n",
       "      <td>0</td>\n",
       "      <td>7</td>\n",
       "      <td>current</td>\n",
       "      <td>baro</td>\n",
       "    </tr>\n",
       "    <tr>\n",
       "      <th>1</th>\n",
       "      <td>1.541708e+09</td>\n",
       "      <td>a894f2</td>\n",
       "      <td>-</td>\n",
       "      <td>38.868118</td>\n",
       "      <td>282.482260</td>\n",
       "      <td>9144.000000</td>\n",
       "      <td>x</td>\n",
       "      <td>-</td>\n",
       "      <td>-</td>\n",
       "      <td>airbourne</td>\n",
       "      <td>0</td>\n",
       "      <td>8</td>\n",
       "      <td>current</td>\n",
       "      <td>baro</td>\n",
       "    </tr>\n",
       "    <tr>\n",
       "      <th>2</th>\n",
       "      <td>1.541708e+09</td>\n",
       "      <td>a6b911</td>\n",
       "      <td>-</td>\n",
       "      <td>38.879638</td>\n",
       "      <td>282.379883</td>\n",
       "      <td>10965.180000</td>\n",
       "      <td>x</td>\n",
       "      <td>189.128838</td>\n",
       "      <td>218.927544</td>\n",
       "      <td>airbourne</td>\n",
       "      <td>0</td>\n",
       "      <td>7</td>\n",
       "      <td>current</td>\n",
       "      <td>baro</td>\n",
       "    </tr>\n",
       "    <tr>\n",
       "      <th>3</th>\n",
       "      <td>1.541708e+09</td>\n",
       "      <td>a894f2</td>\n",
       "      <td>-</td>\n",
       "      <td>38.868118</td>\n",
       "      <td>282.482260</td>\n",
       "      <td>9144.000000</td>\n",
       "      <td>x</td>\n",
       "      <td>193.256586</td>\n",
       "      <td>230.292070</td>\n",
       "      <td>airbourne</td>\n",
       "      <td>0</td>\n",
       "      <td>8</td>\n",
       "      <td>current</td>\n",
       "      <td>baro</td>\n",
       "    </tr>\n",
       "    <tr>\n",
       "      <th>4</th>\n",
       "      <td>1.541708e+09</td>\n",
       "      <td>a6b911</td>\n",
       "      <td>-</td>\n",
       "      <td>38.879638</td>\n",
       "      <td>282.379883</td>\n",
       "      <td>10965.180000</td>\n",
       "      <td>x</td>\n",
       "      <td>189.128838</td>\n",
       "      <td>218.927544</td>\n",
       "      <td>airbourne</td>\n",
       "      <td>0</td>\n",
       "      <td>7</td>\n",
       "      <td>current</td>\n",
       "      <td>baro</td>\n",
       "    </tr>\n",
       "  </tbody>\n",
       "</table>\n",
       "</div>"
      ],
      "text/plain": [
       "          index    icao callsign   latitude   longitude  altitude_(m)  \\\n",
       "0  1.541708e+09  a6b911        -  38.879638  282.379883  10965.180000   \n",
       "1  1.541708e+09  a894f2        -  38.868118  282.482260   9144.000000   \n",
       "2  1.541708e+09  a6b911        -  38.879638  282.379883  10965.180000   \n",
       "3  1.541708e+09  a894f2        -  38.868118  282.482260   9144.000000   \n",
       "4  1.541708e+09  a6b911        -  38.879638  282.379883  10965.180000   \n",
       "\n",
       "  altitude_units_x/+ groundspeed_(m/s)     heading     status cat nic  \\\n",
       "0                  x        189.128838  218.927544  airbourne   0   7   \n",
       "1                  x                 -           -  airbourne   0   8   \n",
       "2                  x        189.128838  218.927544  airbourne   0   7   \n",
       "3                  x        193.256586  230.292070  airbourne   0   8   \n",
       "4                  x        189.128838  218.927544  airbourne   0   7   \n",
       "\n",
       "  current/stale  baro  \n",
       "0       current  baro  \n",
       "1       current  baro  \n",
       "2       current  baro  \n",
       "3       current  baro  \n",
       "4       current  baro  "
      ]
     },
     "execution_count": 48,
     "metadata": {},
     "output_type": "execute_result"
    }
   ],
   "source": [
    "data.head()"
   ]
  },
  {
   "cell_type": "markdown",
   "metadata": {},
   "source": [
    "## Exporting the cleaned up csv file"
   ]
  },
  {
   "cell_type": "code",
   "execution_count": 49,
   "metadata": {
    "collapsed": true
   },
   "outputs": [],
   "source": [
    "data.to_csv(\"cleaned_data_collision_division.csv\")"
   ]
  },
  {
   "cell_type": "markdown",
   "metadata": {},
   "source": [
    "## To do\n",
    "\n",
    "- Check what all of the columns actually mean\n",
    "    - index (it's currently a float, but might just be a string value)\n",
    "    - cat\n",
    "    - nic\n",
    "    - current/stale\n",
    "    - baro\n",
    "    - altitude_units (what do X, +, - mean)\n",
    "\n",
    "- Drop callsign if icao is a better identifier\n",
    "- Drop the index column if it is meaningless"
   ]
  },
  {
   "cell_type": "code",
   "execution_count": null,
   "metadata": {
    "collapsed": true
   },
   "outputs": [],
   "source": []
  }
 ],
 "metadata": {
  "kernelspec": {
   "display_name": "Python 3",
   "language": "python",
   "name": "python3"
  },
  "language_info": {
   "codemirror_mode": {
    "name": "ipython",
    "version": 3
   },
   "file_extension": ".py",
   "mimetype": "text/x-python",
   "name": "python",
   "nbconvert_exporter": "python",
   "pygments_lexer": "ipython3",
   "version": "3.6.0"
  }
 },
 "nbformat": 4,
 "nbformat_minor": 2
}
